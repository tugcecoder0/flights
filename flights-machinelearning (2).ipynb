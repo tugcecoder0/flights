{
 "cells": [
  {
   "cell_type": "markdown",
   "id": "dee466b8",
   "metadata": {
    "papermill": {
     "duration": 0.010352,
     "end_time": "2025-05-24T22:28:00.586831",
     "exception": false,
     "start_time": "2025-05-24T22:28:00.576479",
     "status": "completed"
    },
    "tags": []
   },
   "source": [
    "Kütüphaneleri **import** ettik."
   ]
  },
  {
   "cell_type": "code",
   "execution_count": 1,
   "id": "704fdca7",
   "metadata": {
    "_cell_guid": "b1076dfc-b9ad-4769-8c92-a6c4dae69d19",
    "_uuid": "8f2839f25d086af736a60e9eeb907d3b93b6e0e5",
    "execution": {
     "iopub.execute_input": "2025-05-24T22:28:00.607498Z",
     "iopub.status.busy": "2025-05-24T22:28:00.607083Z",
     "iopub.status.idle": "2025-05-24T22:28:07.464835Z",
     "shell.execute_reply": "2025-05-24T22:28:07.463060Z"
    },
    "papermill": {
     "duration": 6.871031,
     "end_time": "2025-05-24T22:28:07.467197",
     "exception": false,
     "start_time": "2025-05-24T22:28:00.596166",
     "status": "completed"
    },
    "tags": []
   },
   "outputs": [],
   "source": [
    "import numpy as np\n",
    "import pandas as pd\n",
    "import matplotlib.pyplot as plt\n",
    "import seaborn as sns"
   ]
  },
  {
   "cell_type": "code",
   "execution_count": 2,
   "id": "8c9fb985",
   "metadata": {
    "execution": {
     "iopub.execute_input": "2025-05-24T22:28:07.488234Z",
     "iopub.status.busy": "2025-05-24T22:28:07.487604Z",
     "iopub.status.idle": "2025-05-24T22:28:07.494894Z",
     "shell.execute_reply": "2025-05-24T22:28:07.493206Z"
    },
    "papermill": {
     "duration": 0.020525,
     "end_time": "2025-05-24T22:28:07.497276",
     "exception": false,
     "start_time": "2025-05-24T22:28:07.476751",
     "status": "completed"
    },
    "tags": []
   },
   "outputs": [],
   "source": [
    "import warnings\n",
    "warnings.filterwarnings('ignore')\n"
   ]
  },
  {
   "cell_type": "markdown",
   "id": "a4e71982",
   "metadata": {
    "papermill": {
     "duration": 0.009488,
     "end_time": "2025-05-24T22:28:07.516235",
     "exception": false,
     "start_time": "2025-05-24T22:28:07.506747",
     "status": "completed"
    },
    "tags": []
   },
   "source": [
    "**flights** isimli csv dosyasından veriyi çektik."
   ]
  },
  {
   "cell_type": "code",
   "execution_count": 3,
   "id": "24583925",
   "metadata": {
    "execution": {
     "iopub.execute_input": "2025-05-24T22:28:07.538968Z",
     "iopub.status.busy": "2025-05-24T22:28:07.538508Z",
     "iopub.status.idle": "2025-05-24T22:28:09.333485Z",
     "shell.execute_reply": "2025-05-24T22:28:09.331828Z"
    },
    "papermill": {
     "duration": 1.809611,
     "end_time": "2025-05-24T22:28:09.336193",
     "exception": false,
     "start_time": "2025-05-24T22:28:07.526582",
     "status": "completed"
    },
    "tags": []
   },
   "outputs": [],
   "source": [
    "df = pd.read_csv('/kaggle/input/flights/flights.csv')"
   ]
  },
  {
   "cell_type": "markdown",
   "id": "641919c3",
   "metadata": {
    "papermill": {
     "duration": 0.008547,
     "end_time": "2025-05-24T22:28:09.353894",
     "exception": false,
     "start_time": "2025-05-24T22:28:09.345347",
     "status": "completed"
    },
    "tags": []
   },
   "source": [
    "sütunlara ait verilerin formatlarını inceledik."
   ]
  },
  {
   "cell_type": "code",
   "execution_count": 4,
   "id": "8f650cfc",
   "metadata": {
    "execution": {
     "iopub.execute_input": "2025-05-24T22:28:09.373483Z",
     "iopub.status.busy": "2025-05-24T22:28:09.373112Z",
     "iopub.status.idle": "2025-05-24T22:28:09.540574Z",
     "shell.execute_reply": "2025-05-24T22:28:09.539282Z"
    },
    "papermill": {
     "duration": 0.179994,
     "end_time": "2025-05-24T22:28:09.542725",
     "exception": false,
     "start_time": "2025-05-24T22:28:09.362731",
     "status": "completed"
    },
    "tags": []
   },
   "outputs": [
    {
     "name": "stdout",
     "output_type": "stream",
     "text": [
      "<class 'pandas.core.frame.DataFrame'>\n",
      "RangeIndex: 336776 entries, 0 to 336775\n",
      "Data columns (total 21 columns):\n",
      " #   Column          Non-Null Count   Dtype  \n",
      "---  ------          --------------   -----  \n",
      " 0   id              336776 non-null  int64  \n",
      " 1   year            336776 non-null  int64  \n",
      " 2   month           336776 non-null  int64  \n",
      " 3   day             336776 non-null  int64  \n",
      " 4   dep_time        328521 non-null  float64\n",
      " 5   sched_dep_time  336776 non-null  int64  \n",
      " 6   dep_delay       328521 non-null  float64\n",
      " 7   arr_time        328063 non-null  float64\n",
      " 8   sched_arr_time  336776 non-null  int64  \n",
      " 9   arr_delay       327346 non-null  float64\n",
      " 10  carrier         336776 non-null  object \n",
      " 11  flight          336776 non-null  int64  \n",
      " 12  tailnum         334264 non-null  object \n",
      " 13  origin          336776 non-null  object \n",
      " 14  dest            336776 non-null  object \n",
      " 15  air_time        327346 non-null  float64\n",
      " 16  distance        336776 non-null  int64  \n",
      " 17  hour            336776 non-null  int64  \n",
      " 18  minute          336776 non-null  int64  \n",
      " 19  time_hour       336776 non-null  object \n",
      " 20  name            336776 non-null  object \n",
      "dtypes: float64(5), int64(10), object(6)\n",
      "memory usage: 54.0+ MB\n"
     ]
    }
   ],
   "source": [
    "df.info()"
   ]
  },
  {
   "cell_type": "markdown",
   "id": "c4bc4e1f",
   "metadata": {
    "papermill": {
     "duration": 0.008685,
     "end_time": "2025-05-24T22:28:09.560781",
     "exception": false,
     "start_time": "2025-05-24T22:28:09.552096",
     "status": "completed"
    },
    "tags": []
   },
   "source": [
    "İlk 5 satırın verilerini önizleme yaptık."
   ]
  },
  {
   "cell_type": "code",
   "execution_count": 5,
   "id": "dff4cf14",
   "metadata": {
    "execution": {
     "iopub.execute_input": "2025-05-24T22:28:09.581464Z",
     "iopub.status.busy": "2025-05-24T22:28:09.580162Z",
     "iopub.status.idle": "2025-05-24T22:28:09.627832Z",
     "shell.execute_reply": "2025-05-24T22:28:09.626703Z"
    },
    "papermill": {
     "duration": 0.060099,
     "end_time": "2025-05-24T22:28:09.629795",
     "exception": false,
     "start_time": "2025-05-24T22:28:09.569696",
     "status": "completed"
    },
    "tags": []
   },
   "outputs": [
    {
     "data": {
      "text/html": [
       "<div>\n",
       "<style scoped>\n",
       "    .dataframe tbody tr th:only-of-type {\n",
       "        vertical-align: middle;\n",
       "    }\n",
       "\n",
       "    .dataframe tbody tr th {\n",
       "        vertical-align: top;\n",
       "    }\n",
       "\n",
       "    .dataframe thead th {\n",
       "        text-align: right;\n",
       "    }\n",
       "</style>\n",
       "<table border=\"1\" class=\"dataframe\">\n",
       "  <thead>\n",
       "    <tr style=\"text-align: right;\">\n",
       "      <th></th>\n",
       "      <th>id</th>\n",
       "      <th>year</th>\n",
       "      <th>month</th>\n",
       "      <th>day</th>\n",
       "      <th>dep_time</th>\n",
       "      <th>sched_dep_time</th>\n",
       "      <th>dep_delay</th>\n",
       "      <th>arr_time</th>\n",
       "      <th>sched_arr_time</th>\n",
       "      <th>arr_delay</th>\n",
       "      <th>...</th>\n",
       "      <th>flight</th>\n",
       "      <th>tailnum</th>\n",
       "      <th>origin</th>\n",
       "      <th>dest</th>\n",
       "      <th>air_time</th>\n",
       "      <th>distance</th>\n",
       "      <th>hour</th>\n",
       "      <th>minute</th>\n",
       "      <th>time_hour</th>\n",
       "      <th>name</th>\n",
       "    </tr>\n",
       "  </thead>\n",
       "  <tbody>\n",
       "    <tr>\n",
       "      <th>0</th>\n",
       "      <td>0</td>\n",
       "      <td>2013</td>\n",
       "      <td>1</td>\n",
       "      <td>1</td>\n",
       "      <td>517.0</td>\n",
       "      <td>515</td>\n",
       "      <td>2.0</td>\n",
       "      <td>830.0</td>\n",
       "      <td>819</td>\n",
       "      <td>11.0</td>\n",
       "      <td>...</td>\n",
       "      <td>1545</td>\n",
       "      <td>N14228</td>\n",
       "      <td>EWR</td>\n",
       "      <td>IAH</td>\n",
       "      <td>227.0</td>\n",
       "      <td>1400</td>\n",
       "      <td>5</td>\n",
       "      <td>15</td>\n",
       "      <td>2013-01-01 05:00:00</td>\n",
       "      <td>United Air Lines Inc.</td>\n",
       "    </tr>\n",
       "    <tr>\n",
       "      <th>1</th>\n",
       "      <td>1</td>\n",
       "      <td>2013</td>\n",
       "      <td>1</td>\n",
       "      <td>1</td>\n",
       "      <td>533.0</td>\n",
       "      <td>529</td>\n",
       "      <td>4.0</td>\n",
       "      <td>850.0</td>\n",
       "      <td>830</td>\n",
       "      <td>20.0</td>\n",
       "      <td>...</td>\n",
       "      <td>1714</td>\n",
       "      <td>N24211</td>\n",
       "      <td>LGA</td>\n",
       "      <td>IAH</td>\n",
       "      <td>227.0</td>\n",
       "      <td>1416</td>\n",
       "      <td>5</td>\n",
       "      <td>29</td>\n",
       "      <td>2013-01-01 05:00:00</td>\n",
       "      <td>United Air Lines Inc.</td>\n",
       "    </tr>\n",
       "    <tr>\n",
       "      <th>2</th>\n",
       "      <td>2</td>\n",
       "      <td>2013</td>\n",
       "      <td>1</td>\n",
       "      <td>1</td>\n",
       "      <td>542.0</td>\n",
       "      <td>540</td>\n",
       "      <td>2.0</td>\n",
       "      <td>923.0</td>\n",
       "      <td>850</td>\n",
       "      <td>33.0</td>\n",
       "      <td>...</td>\n",
       "      <td>1141</td>\n",
       "      <td>N619AA</td>\n",
       "      <td>JFK</td>\n",
       "      <td>MIA</td>\n",
       "      <td>160.0</td>\n",
       "      <td>1089</td>\n",
       "      <td>5</td>\n",
       "      <td>40</td>\n",
       "      <td>2013-01-01 05:00:00</td>\n",
       "      <td>American Airlines Inc.</td>\n",
       "    </tr>\n",
       "    <tr>\n",
       "      <th>3</th>\n",
       "      <td>3</td>\n",
       "      <td>2013</td>\n",
       "      <td>1</td>\n",
       "      <td>1</td>\n",
       "      <td>544.0</td>\n",
       "      <td>545</td>\n",
       "      <td>-1.0</td>\n",
       "      <td>1004.0</td>\n",
       "      <td>1022</td>\n",
       "      <td>-18.0</td>\n",
       "      <td>...</td>\n",
       "      <td>725</td>\n",
       "      <td>N804JB</td>\n",
       "      <td>JFK</td>\n",
       "      <td>BQN</td>\n",
       "      <td>183.0</td>\n",
       "      <td>1576</td>\n",
       "      <td>5</td>\n",
       "      <td>45</td>\n",
       "      <td>2013-01-01 05:00:00</td>\n",
       "      <td>JetBlue Airways</td>\n",
       "    </tr>\n",
       "    <tr>\n",
       "      <th>4</th>\n",
       "      <td>4</td>\n",
       "      <td>2013</td>\n",
       "      <td>1</td>\n",
       "      <td>1</td>\n",
       "      <td>554.0</td>\n",
       "      <td>600</td>\n",
       "      <td>-6.0</td>\n",
       "      <td>812.0</td>\n",
       "      <td>837</td>\n",
       "      <td>-25.0</td>\n",
       "      <td>...</td>\n",
       "      <td>461</td>\n",
       "      <td>N668DN</td>\n",
       "      <td>LGA</td>\n",
       "      <td>ATL</td>\n",
       "      <td>116.0</td>\n",
       "      <td>762</td>\n",
       "      <td>6</td>\n",
       "      <td>0</td>\n",
       "      <td>2013-01-01 06:00:00</td>\n",
       "      <td>Delta Air Lines Inc.</td>\n",
       "    </tr>\n",
       "  </tbody>\n",
       "</table>\n",
       "<p>5 rows × 21 columns</p>\n",
       "</div>"
      ],
      "text/plain": [
       "   id  year  month  day  dep_time  sched_dep_time  dep_delay  arr_time  \\\n",
       "0   0  2013      1    1     517.0             515        2.0     830.0   \n",
       "1   1  2013      1    1     533.0             529        4.0     850.0   \n",
       "2   2  2013      1    1     542.0             540        2.0     923.0   \n",
       "3   3  2013      1    1     544.0             545       -1.0    1004.0   \n",
       "4   4  2013      1    1     554.0             600       -6.0     812.0   \n",
       "\n",
       "   sched_arr_time  arr_delay  ... flight  tailnum origin dest air_time  \\\n",
       "0             819       11.0  ...   1545   N14228    EWR  IAH    227.0   \n",
       "1             830       20.0  ...   1714   N24211    LGA  IAH    227.0   \n",
       "2             850       33.0  ...   1141   N619AA    JFK  MIA    160.0   \n",
       "3            1022      -18.0  ...    725   N804JB    JFK  BQN    183.0   \n",
       "4             837      -25.0  ...    461   N668DN    LGA  ATL    116.0   \n",
       "\n",
       "   distance  hour  minute            time_hour                    name  \n",
       "0      1400     5      15  2013-01-01 05:00:00   United Air Lines Inc.  \n",
       "1      1416     5      29  2013-01-01 05:00:00   United Air Lines Inc.  \n",
       "2      1089     5      40  2013-01-01 05:00:00  American Airlines Inc.  \n",
       "3      1576     5      45  2013-01-01 05:00:00         JetBlue Airways  \n",
       "4       762     6       0  2013-01-01 06:00:00    Delta Air Lines Inc.  \n",
       "\n",
       "[5 rows x 21 columns]"
      ]
     },
     "execution_count": 5,
     "metadata": {},
     "output_type": "execute_result"
    }
   ],
   "source": [
    "df.head()"
   ]
  },
  {
   "cell_type": "markdown",
   "id": "cacfbabd",
   "metadata": {
    "papermill": {
     "duration": 0.009267,
     "end_time": "2025-05-24T22:28:09.648961",
     "exception": false,
     "start_time": "2025-05-24T22:28:09.639694",
     "status": "completed"
    },
    "tags": []
   },
   "source": [
    "***time_hour*** isimli sütundaki veriler tarih olduğu için **Object** veri tipini ***date_time*** formatına dönüştürdük."
   ]
  },
  {
   "cell_type": "code",
   "execution_count": 6,
   "id": "7ad7c74e",
   "metadata": {
    "execution": {
     "iopub.execute_input": "2025-05-24T22:28:09.670595Z",
     "iopub.status.busy": "2025-05-24T22:28:09.669279Z",
     "iopub.status.idle": "2025-05-24T22:28:09.727439Z",
     "shell.execute_reply": "2025-05-24T22:28:09.725835Z"
    },
    "papermill": {
     "duration": 0.071065,
     "end_time": "2025-05-24T22:28:09.729628",
     "exception": false,
     "start_time": "2025-05-24T22:28:09.658563",
     "status": "completed"
    },
    "tags": []
   },
   "outputs": [],
   "source": [
    "df['time_hour'] = pd.to_datetime(df['time_hour'])\n"
   ]
  },
  {
   "cell_type": "code",
   "execution_count": 7,
   "id": "03d2bce1",
   "metadata": {
    "execution": {
     "iopub.execute_input": "2025-05-24T22:28:09.751559Z",
     "iopub.status.busy": "2025-05-24T22:28:09.751151Z",
     "iopub.status.idle": "2025-05-24T22:28:09.780067Z",
     "shell.execute_reply": "2025-05-24T22:28:09.778711Z"
    },
    "papermill": {
     "duration": 0.042366,
     "end_time": "2025-05-24T22:28:09.782104",
     "exception": false,
     "start_time": "2025-05-24T22:28:09.739738",
     "status": "completed"
    },
    "tags": []
   },
   "outputs": [
    {
     "data": {
      "text/html": [
       "<div>\n",
       "<style scoped>\n",
       "    .dataframe tbody tr th:only-of-type {\n",
       "        vertical-align: middle;\n",
       "    }\n",
       "\n",
       "    .dataframe tbody tr th {\n",
       "        vertical-align: top;\n",
       "    }\n",
       "\n",
       "    .dataframe thead th {\n",
       "        text-align: right;\n",
       "    }\n",
       "</style>\n",
       "<table border=\"1\" class=\"dataframe\">\n",
       "  <thead>\n",
       "    <tr style=\"text-align: right;\">\n",
       "      <th></th>\n",
       "      <th>id</th>\n",
       "      <th>year</th>\n",
       "      <th>month</th>\n",
       "      <th>day</th>\n",
       "      <th>dep_time</th>\n",
       "      <th>sched_dep_time</th>\n",
       "      <th>dep_delay</th>\n",
       "      <th>arr_time</th>\n",
       "      <th>sched_arr_time</th>\n",
       "      <th>arr_delay</th>\n",
       "      <th>...</th>\n",
       "      <th>flight</th>\n",
       "      <th>tailnum</th>\n",
       "      <th>origin</th>\n",
       "      <th>dest</th>\n",
       "      <th>air_time</th>\n",
       "      <th>distance</th>\n",
       "      <th>hour</th>\n",
       "      <th>minute</th>\n",
       "      <th>time_hour</th>\n",
       "      <th>name</th>\n",
       "    </tr>\n",
       "  </thead>\n",
       "  <tbody>\n",
       "    <tr>\n",
       "      <th>0</th>\n",
       "      <td>0</td>\n",
       "      <td>2013</td>\n",
       "      <td>1</td>\n",
       "      <td>1</td>\n",
       "      <td>517.0</td>\n",
       "      <td>515</td>\n",
       "      <td>2.0</td>\n",
       "      <td>830.0</td>\n",
       "      <td>819</td>\n",
       "      <td>11.0</td>\n",
       "      <td>...</td>\n",
       "      <td>1545</td>\n",
       "      <td>N14228</td>\n",
       "      <td>EWR</td>\n",
       "      <td>IAH</td>\n",
       "      <td>227.0</td>\n",
       "      <td>1400</td>\n",
       "      <td>5</td>\n",
       "      <td>15</td>\n",
       "      <td>2013-01-01 05:00:00</td>\n",
       "      <td>United Air Lines Inc.</td>\n",
       "    </tr>\n",
       "    <tr>\n",
       "      <th>1</th>\n",
       "      <td>1</td>\n",
       "      <td>2013</td>\n",
       "      <td>1</td>\n",
       "      <td>1</td>\n",
       "      <td>533.0</td>\n",
       "      <td>529</td>\n",
       "      <td>4.0</td>\n",
       "      <td>850.0</td>\n",
       "      <td>830</td>\n",
       "      <td>20.0</td>\n",
       "      <td>...</td>\n",
       "      <td>1714</td>\n",
       "      <td>N24211</td>\n",
       "      <td>LGA</td>\n",
       "      <td>IAH</td>\n",
       "      <td>227.0</td>\n",
       "      <td>1416</td>\n",
       "      <td>5</td>\n",
       "      <td>29</td>\n",
       "      <td>2013-01-01 05:00:00</td>\n",
       "      <td>United Air Lines Inc.</td>\n",
       "    </tr>\n",
       "    <tr>\n",
       "      <th>2</th>\n",
       "      <td>2</td>\n",
       "      <td>2013</td>\n",
       "      <td>1</td>\n",
       "      <td>1</td>\n",
       "      <td>542.0</td>\n",
       "      <td>540</td>\n",
       "      <td>2.0</td>\n",
       "      <td>923.0</td>\n",
       "      <td>850</td>\n",
       "      <td>33.0</td>\n",
       "      <td>...</td>\n",
       "      <td>1141</td>\n",
       "      <td>N619AA</td>\n",
       "      <td>JFK</td>\n",
       "      <td>MIA</td>\n",
       "      <td>160.0</td>\n",
       "      <td>1089</td>\n",
       "      <td>5</td>\n",
       "      <td>40</td>\n",
       "      <td>2013-01-01 05:00:00</td>\n",
       "      <td>American Airlines Inc.</td>\n",
       "    </tr>\n",
       "    <tr>\n",
       "      <th>3</th>\n",
       "      <td>3</td>\n",
       "      <td>2013</td>\n",
       "      <td>1</td>\n",
       "      <td>1</td>\n",
       "      <td>544.0</td>\n",
       "      <td>545</td>\n",
       "      <td>-1.0</td>\n",
       "      <td>1004.0</td>\n",
       "      <td>1022</td>\n",
       "      <td>-18.0</td>\n",
       "      <td>...</td>\n",
       "      <td>725</td>\n",
       "      <td>N804JB</td>\n",
       "      <td>JFK</td>\n",
       "      <td>BQN</td>\n",
       "      <td>183.0</td>\n",
       "      <td>1576</td>\n",
       "      <td>5</td>\n",
       "      <td>45</td>\n",
       "      <td>2013-01-01 05:00:00</td>\n",
       "      <td>JetBlue Airways</td>\n",
       "    </tr>\n",
       "    <tr>\n",
       "      <th>4</th>\n",
       "      <td>4</td>\n",
       "      <td>2013</td>\n",
       "      <td>1</td>\n",
       "      <td>1</td>\n",
       "      <td>554.0</td>\n",
       "      <td>600</td>\n",
       "      <td>-6.0</td>\n",
       "      <td>812.0</td>\n",
       "      <td>837</td>\n",
       "      <td>-25.0</td>\n",
       "      <td>...</td>\n",
       "      <td>461</td>\n",
       "      <td>N668DN</td>\n",
       "      <td>LGA</td>\n",
       "      <td>ATL</td>\n",
       "      <td>116.0</td>\n",
       "      <td>762</td>\n",
       "      <td>6</td>\n",
       "      <td>0</td>\n",
       "      <td>2013-01-01 06:00:00</td>\n",
       "      <td>Delta Air Lines Inc.</td>\n",
       "    </tr>\n",
       "  </tbody>\n",
       "</table>\n",
       "<p>5 rows × 21 columns</p>\n",
       "</div>"
      ],
      "text/plain": [
       "   id  year  month  day  dep_time  sched_dep_time  dep_delay  arr_time  \\\n",
       "0   0  2013      1    1     517.0             515        2.0     830.0   \n",
       "1   1  2013      1    1     533.0             529        4.0     850.0   \n",
       "2   2  2013      1    1     542.0             540        2.0     923.0   \n",
       "3   3  2013      1    1     544.0             545       -1.0    1004.0   \n",
       "4   4  2013      1    1     554.0             600       -6.0     812.0   \n",
       "\n",
       "   sched_arr_time  arr_delay  ... flight  tailnum origin dest air_time  \\\n",
       "0             819       11.0  ...   1545   N14228    EWR  IAH    227.0   \n",
       "1             830       20.0  ...   1714   N24211    LGA  IAH    227.0   \n",
       "2             850       33.0  ...   1141   N619AA    JFK  MIA    160.0   \n",
       "3            1022      -18.0  ...    725   N804JB    JFK  BQN    183.0   \n",
       "4             837      -25.0  ...    461   N668DN    LGA  ATL    116.0   \n",
       "\n",
       "   distance  hour  minute           time_hour                    name  \n",
       "0      1400     5      15 2013-01-01 05:00:00   United Air Lines Inc.  \n",
       "1      1416     5      29 2013-01-01 05:00:00   United Air Lines Inc.  \n",
       "2      1089     5      40 2013-01-01 05:00:00  American Airlines Inc.  \n",
       "3      1576     5      45 2013-01-01 05:00:00         JetBlue Airways  \n",
       "4       762     6       0 2013-01-01 06:00:00    Delta Air Lines Inc.  \n",
       "\n",
       "[5 rows x 21 columns]"
      ]
     },
     "execution_count": 7,
     "metadata": {},
     "output_type": "execute_result"
    }
   ],
   "source": [
    "df.head()"
   ]
  },
  {
   "cell_type": "code",
   "execution_count": 8,
   "id": "4d9f7d31",
   "metadata": {
    "execution": {
     "iopub.execute_input": "2025-05-24T22:28:09.803694Z",
     "iopub.status.busy": "2025-05-24T22:28:09.803256Z",
     "iopub.status.idle": "2025-05-24T22:28:09.916392Z",
     "shell.execute_reply": "2025-05-24T22:28:09.915225Z"
    },
    "papermill": {
     "duration": 0.126398,
     "end_time": "2025-05-24T22:28:09.918457",
     "exception": false,
     "start_time": "2025-05-24T22:28:09.792059",
     "status": "completed"
    },
    "tags": []
   },
   "outputs": [],
   "source": [
    "# Zaman sütunlarını datetime'a çevir\n",
    "df['date'] = pd.to_datetime(df[['year', 'month', 'day']])\n",
    "\n",
    "# Haftanın günü (0 = Pazartesi, 6 = Pazar)\n",
    "df['day_of_week'] = df['date'].dt.dayofweek\n",
    "\n",
    "# Hafta sonu mu? (Cumartesi & Pazar)\n",
    "df['weekend'] = df['day_of_week'].isin([5, 6]).astype(int)\n",
    "\n",
    "# Ayların döngüsel dönüşümü (Mevsimsellik için)\n",
    "df['month_sin'] = np.sin(2 * np.pi * df['month'] / 12)\n",
    "df['month_cos'] = np.cos(2 * np.pi * df['month'] / 12)\n",
    "\n",
    "# Kalkış saati bilgisi (sched_dep_time float/int, örn: 540 → 5:40)\n",
    "df['sched_dep_hour'] = df['sched_dep_time'] // 100\n",
    "df['sched_dep_minute'] = df['sched_dep_time'] % 100\n"
   ]
  },
  {
   "cell_type": "code",
   "execution_count": 9,
   "id": "623bd075",
   "metadata": {
    "execution": {
     "iopub.execute_input": "2025-05-24T22:28:09.940660Z",
     "iopub.status.busy": "2025-05-24T22:28:09.940209Z",
     "iopub.status.idle": "2025-05-24T22:28:09.964904Z",
     "shell.execute_reply": "2025-05-24T22:28:09.963476Z"
    },
    "papermill": {
     "duration": 0.038586,
     "end_time": "2025-05-24T22:28:09.967344",
     "exception": false,
     "start_time": "2025-05-24T22:28:09.928758",
     "status": "completed"
    },
    "tags": []
   },
   "outputs": [],
   "source": [
    "# Ortalama hız (mil/saat) → distance / air_time * 60\n",
    "df['avg_speed'] = (df['distance'] / df['air_time']) * 60\n"
   ]
  },
  {
   "cell_type": "code",
   "execution_count": 10,
   "id": "37c50051",
   "metadata": {
    "execution": {
     "iopub.execute_input": "2025-05-24T22:28:09.989303Z",
     "iopub.status.busy": "2025-05-24T22:28:09.988873Z",
     "iopub.status.idle": "2025-05-24T22:28:10.083932Z",
     "shell.execute_reply": "2025-05-24T22:28:10.082719Z"
    },
    "papermill": {
     "duration": 0.108874,
     "end_time": "2025-05-24T22:28:10.086278",
     "exception": false,
     "start_time": "2025-05-24T22:28:09.977404",
     "status": "completed"
    },
    "tags": []
   },
   "outputs": [],
   "source": [
    "# Uçuş yönü (örneğin 'JFK_MIA')\n",
    "df['route'] = df['origin'] + \"_\" + df['dest']\n"
   ]
  },
  {
   "cell_type": "code",
   "execution_count": 11,
   "id": "f74a3de7",
   "metadata": {
    "execution": {
     "iopub.execute_input": "2025-05-24T22:28:10.108434Z",
     "iopub.status.busy": "2025-05-24T22:28:10.108002Z",
     "iopub.status.idle": "2025-05-24T22:28:10.160850Z",
     "shell.execute_reply": "2025-05-24T22:28:10.159727Z"
    },
    "papermill": {
     "duration": 0.066665,
     "end_time": "2025-05-24T22:28:10.163162",
     "exception": false,
     "start_time": "2025-05-24T22:28:10.096497",
     "status": "completed"
    },
    "tags": []
   },
   "outputs": [],
   "source": [
    "# Taşıyıcı bazında ortalama kalkış gecikmesi\n",
    "carrier_delay_mean = df.groupby('carrier')['dep_delay'].mean().to_dict()\n",
    "df['carrier_avg_delay'] = df['carrier'].map(carrier_delay_mean)\n"
   ]
  },
  {
   "cell_type": "markdown",
   "id": "7900a2a3",
   "metadata": {
    "papermill": {
     "duration": 0.009585,
     "end_time": "2025-05-24T22:28:10.182746",
     "exception": false,
     "start_time": "2025-05-24T22:28:10.173161",
     "status": "completed"
    },
    "tags": []
   },
   "source": [
    "Son 5 satıra ait verileri önizledim."
   ]
  },
  {
   "cell_type": "code",
   "execution_count": 12,
   "id": "cf58aae3",
   "metadata": {
    "execution": {
     "iopub.execute_input": "2025-05-24T22:28:10.294398Z",
     "iopub.status.busy": "2025-05-24T22:28:10.293981Z",
     "iopub.status.idle": "2025-05-24T22:28:10.321014Z",
     "shell.execute_reply": "2025-05-24T22:28:10.319820Z"
    },
    "papermill": {
     "duration": 0.0414,
     "end_time": "2025-05-24T22:28:10.322921",
     "exception": false,
     "start_time": "2025-05-24T22:28:10.281521",
     "status": "completed"
    },
    "tags": []
   },
   "outputs": [
    {
     "data": {
      "text/html": [
       "<div>\n",
       "<style scoped>\n",
       "    .dataframe tbody tr th:only-of-type {\n",
       "        vertical-align: middle;\n",
       "    }\n",
       "\n",
       "    .dataframe tbody tr th {\n",
       "        vertical-align: top;\n",
       "    }\n",
       "\n",
       "    .dataframe thead th {\n",
       "        text-align: right;\n",
       "    }\n",
       "</style>\n",
       "<table border=\"1\" class=\"dataframe\">\n",
       "  <thead>\n",
       "    <tr style=\"text-align: right;\">\n",
       "      <th></th>\n",
       "      <th>id</th>\n",
       "      <th>year</th>\n",
       "      <th>month</th>\n",
       "      <th>day</th>\n",
       "      <th>dep_time</th>\n",
       "      <th>sched_dep_time</th>\n",
       "      <th>dep_delay</th>\n",
       "      <th>arr_time</th>\n",
       "      <th>sched_arr_time</th>\n",
       "      <th>arr_delay</th>\n",
       "      <th>...</th>\n",
       "      <th>date</th>\n",
       "      <th>day_of_week</th>\n",
       "      <th>weekend</th>\n",
       "      <th>month_sin</th>\n",
       "      <th>month_cos</th>\n",
       "      <th>sched_dep_hour</th>\n",
       "      <th>sched_dep_minute</th>\n",
       "      <th>avg_speed</th>\n",
       "      <th>route</th>\n",
       "      <th>carrier_avg_delay</th>\n",
       "    </tr>\n",
       "  </thead>\n",
       "  <tbody>\n",
       "    <tr>\n",
       "      <th>336771</th>\n",
       "      <td>336771</td>\n",
       "      <td>2013</td>\n",
       "      <td>9</td>\n",
       "      <td>30</td>\n",
       "      <td>NaN</td>\n",
       "      <td>1455</td>\n",
       "      <td>NaN</td>\n",
       "      <td>NaN</td>\n",
       "      <td>1634</td>\n",
       "      <td>NaN</td>\n",
       "      <td>...</td>\n",
       "      <td>2013-09-30</td>\n",
       "      <td>0</td>\n",
       "      <td>0</td>\n",
       "      <td>-1.0</td>\n",
       "      <td>-1.836970e-16</td>\n",
       "      <td>14</td>\n",
       "      <td>55</td>\n",
       "      <td>NaN</td>\n",
       "      <td>JFK_DCA</td>\n",
       "      <td>16.725769</td>\n",
       "    </tr>\n",
       "    <tr>\n",
       "      <th>336772</th>\n",
       "      <td>336772</td>\n",
       "      <td>2013</td>\n",
       "      <td>9</td>\n",
       "      <td>30</td>\n",
       "      <td>NaN</td>\n",
       "      <td>2200</td>\n",
       "      <td>NaN</td>\n",
       "      <td>NaN</td>\n",
       "      <td>2312</td>\n",
       "      <td>NaN</td>\n",
       "      <td>...</td>\n",
       "      <td>2013-09-30</td>\n",
       "      <td>0</td>\n",
       "      <td>0</td>\n",
       "      <td>-1.0</td>\n",
       "      <td>-1.836970e-16</td>\n",
       "      <td>22</td>\n",
       "      <td>0</td>\n",
       "      <td>NaN</td>\n",
       "      <td>LGA_SYR</td>\n",
       "      <td>16.725769</td>\n",
       "    </tr>\n",
       "    <tr>\n",
       "      <th>336773</th>\n",
       "      <td>336773</td>\n",
       "      <td>2013</td>\n",
       "      <td>9</td>\n",
       "      <td>30</td>\n",
       "      <td>NaN</td>\n",
       "      <td>1210</td>\n",
       "      <td>NaN</td>\n",
       "      <td>NaN</td>\n",
       "      <td>1330</td>\n",
       "      <td>NaN</td>\n",
       "      <td>...</td>\n",
       "      <td>2013-09-30</td>\n",
       "      <td>0</td>\n",
       "      <td>0</td>\n",
       "      <td>-1.0</td>\n",
       "      <td>-1.836970e-16</td>\n",
       "      <td>12</td>\n",
       "      <td>10</td>\n",
       "      <td>NaN</td>\n",
       "      <td>LGA_BNA</td>\n",
       "      <td>10.552041</td>\n",
       "    </tr>\n",
       "    <tr>\n",
       "      <th>336774</th>\n",
       "      <td>336774</td>\n",
       "      <td>2013</td>\n",
       "      <td>9</td>\n",
       "      <td>30</td>\n",
       "      <td>NaN</td>\n",
       "      <td>1159</td>\n",
       "      <td>NaN</td>\n",
       "      <td>NaN</td>\n",
       "      <td>1344</td>\n",
       "      <td>NaN</td>\n",
       "      <td>...</td>\n",
       "      <td>2013-09-30</td>\n",
       "      <td>0</td>\n",
       "      <td>0</td>\n",
       "      <td>-1.0</td>\n",
       "      <td>-1.836970e-16</td>\n",
       "      <td>11</td>\n",
       "      <td>59</td>\n",
       "      <td>NaN</td>\n",
       "      <td>LGA_CLE</td>\n",
       "      <td>10.552041</td>\n",
       "    </tr>\n",
       "    <tr>\n",
       "      <th>336775</th>\n",
       "      <td>336775</td>\n",
       "      <td>2013</td>\n",
       "      <td>9</td>\n",
       "      <td>30</td>\n",
       "      <td>NaN</td>\n",
       "      <td>840</td>\n",
       "      <td>NaN</td>\n",
       "      <td>NaN</td>\n",
       "      <td>1020</td>\n",
       "      <td>NaN</td>\n",
       "      <td>...</td>\n",
       "      <td>2013-09-30</td>\n",
       "      <td>0</td>\n",
       "      <td>0</td>\n",
       "      <td>-1.0</td>\n",
       "      <td>-1.836970e-16</td>\n",
       "      <td>8</td>\n",
       "      <td>40</td>\n",
       "      <td>NaN</td>\n",
       "      <td>LGA_RDU</td>\n",
       "      <td>10.552041</td>\n",
       "    </tr>\n",
       "  </tbody>\n",
       "</table>\n",
       "<p>5 rows × 31 columns</p>\n",
       "</div>"
      ],
      "text/plain": [
       "            id  year  month  day  dep_time  sched_dep_time  dep_delay  \\\n",
       "336771  336771  2013      9   30       NaN            1455        NaN   \n",
       "336772  336772  2013      9   30       NaN            2200        NaN   \n",
       "336773  336773  2013      9   30       NaN            1210        NaN   \n",
       "336774  336774  2013      9   30       NaN            1159        NaN   \n",
       "336775  336775  2013      9   30       NaN             840        NaN   \n",
       "\n",
       "        arr_time  sched_arr_time  arr_delay  ...       date  day_of_week  \\\n",
       "336771       NaN            1634        NaN  ... 2013-09-30            0   \n",
       "336772       NaN            2312        NaN  ... 2013-09-30            0   \n",
       "336773       NaN            1330        NaN  ... 2013-09-30            0   \n",
       "336774       NaN            1344        NaN  ... 2013-09-30            0   \n",
       "336775       NaN            1020        NaN  ... 2013-09-30            0   \n",
       "\n",
       "       weekend month_sin     month_cos  sched_dep_hour  sched_dep_minute  \\\n",
       "336771       0      -1.0 -1.836970e-16              14                55   \n",
       "336772       0      -1.0 -1.836970e-16              22                 0   \n",
       "336773       0      -1.0 -1.836970e-16              12                10   \n",
       "336774       0      -1.0 -1.836970e-16              11                59   \n",
       "336775       0      -1.0 -1.836970e-16               8                40   \n",
       "\n",
       "        avg_speed    route carrier_avg_delay  \n",
       "336771        NaN  JFK_DCA         16.725769  \n",
       "336772        NaN  LGA_SYR         16.725769  \n",
       "336773        NaN  LGA_BNA         10.552041  \n",
       "336774        NaN  LGA_CLE         10.552041  \n",
       "336775        NaN  LGA_RDU         10.552041  \n",
       "\n",
       "[5 rows x 31 columns]"
      ]
     },
     "execution_count": 12,
     "metadata": {},
     "output_type": "execute_result"
    }
   ],
   "source": [
    "df.tail()"
   ]
  },
  {
   "cell_type": "markdown",
   "id": "b9cc8298",
   "metadata": {
    "papermill": {
     "duration": 0.010309,
     "end_time": "2025-05-24T22:28:10.344131",
     "exception": false,
     "start_time": "2025-05-24T22:28:10.333822",
     "status": "completed"
    },
    "tags": []
   },
   "source": [
    "Her sütunda ne kadar boş veri sayısı var gözlemledik."
   ]
  },
  {
   "cell_type": "code",
   "execution_count": 13,
   "id": "ddd8e40b",
   "metadata": {
    "execution": {
     "iopub.execute_input": "2025-05-24T22:28:10.366953Z",
     "iopub.status.busy": "2025-05-24T22:28:10.366381Z",
     "iopub.status.idle": "2025-05-24T22:28:10.503981Z",
     "shell.execute_reply": "2025-05-24T22:28:10.502800Z"
    },
    "papermill": {
     "duration": 0.151296,
     "end_time": "2025-05-24T22:28:10.506065",
     "exception": false,
     "start_time": "2025-05-24T22:28:10.354769",
     "status": "completed"
    },
    "tags": []
   },
   "outputs": [
    {
     "data": {
      "text/plain": [
       "id                      0\n",
       "year                    0\n",
       "month                   0\n",
       "day                     0\n",
       "dep_time             8255\n",
       "sched_dep_time          0\n",
       "dep_delay            8255\n",
       "arr_time             8713\n",
       "sched_arr_time          0\n",
       "arr_delay            9430\n",
       "carrier                 0\n",
       "flight                  0\n",
       "tailnum              2512\n",
       "origin                  0\n",
       "dest                    0\n",
       "air_time             9430\n",
       "distance                0\n",
       "hour                    0\n",
       "minute                  0\n",
       "time_hour               0\n",
       "name                    0\n",
       "date                    0\n",
       "day_of_week             0\n",
       "weekend                 0\n",
       "month_sin               0\n",
       "month_cos               0\n",
       "sched_dep_hour          0\n",
       "sched_dep_minute        0\n",
       "avg_speed            9430\n",
       "route                   0\n",
       "carrier_avg_delay       0\n",
       "dtype: int64"
      ]
     },
     "execution_count": 13,
     "metadata": {},
     "output_type": "execute_result"
    }
   ],
   "source": [
    "df.isnull().sum()"
   ]
  },
  {
   "cell_type": "markdown",
   "id": "dc5ff811",
   "metadata": {
    "papermill": {
     "duration": 0.009982,
     "end_time": "2025-05-24T22:28:10.526430",
     "exception": false,
     "start_time": "2025-05-24T22:28:10.516448",
     "status": "completed"
    },
    "tags": []
   },
   "source": [
    "her sütunda ne kadar boş veri var sayısını görmek için isnull kullanıldı."
   ]
  },
  {
   "cell_type": "code",
   "execution_count": 14,
   "id": "76e833a0",
   "metadata": {
    "execution": {
     "iopub.execute_input": "2025-05-24T22:28:10.549378Z",
     "iopub.status.busy": "2025-05-24T22:28:10.548978Z",
     "iopub.status.idle": "2025-05-24T22:28:10.577576Z",
     "shell.execute_reply": "2025-05-24T22:28:10.576434Z"
    },
    "papermill": {
     "duration": 0.042763,
     "end_time": "2025-05-24T22:28:10.579831",
     "exception": false,
     "start_time": "2025-05-24T22:28:10.537068",
     "status": "completed"
    },
    "tags": []
   },
   "outputs": [
    {
     "data": {
      "text/html": [
       "<div>\n",
       "<style scoped>\n",
       "    .dataframe tbody tr th:only-of-type {\n",
       "        vertical-align: middle;\n",
       "    }\n",
       "\n",
       "    .dataframe tbody tr th {\n",
       "        vertical-align: top;\n",
       "    }\n",
       "\n",
       "    .dataframe thead th {\n",
       "        text-align: right;\n",
       "    }\n",
       "</style>\n",
       "<table border=\"1\" class=\"dataframe\">\n",
       "  <thead>\n",
       "    <tr style=\"text-align: right;\">\n",
       "      <th></th>\n",
       "      <th>id</th>\n",
       "      <th>year</th>\n",
       "      <th>month</th>\n",
       "      <th>day</th>\n",
       "      <th>dep_time</th>\n",
       "      <th>sched_dep_time</th>\n",
       "      <th>dep_delay</th>\n",
       "      <th>arr_time</th>\n",
       "      <th>sched_arr_time</th>\n",
       "      <th>arr_delay</th>\n",
       "      <th>...</th>\n",
       "      <th>date</th>\n",
       "      <th>day_of_week</th>\n",
       "      <th>weekend</th>\n",
       "      <th>month_sin</th>\n",
       "      <th>month_cos</th>\n",
       "      <th>sched_dep_hour</th>\n",
       "      <th>sched_dep_minute</th>\n",
       "      <th>avg_speed</th>\n",
       "      <th>route</th>\n",
       "      <th>carrier_avg_delay</th>\n",
       "    </tr>\n",
       "  </thead>\n",
       "  <tbody>\n",
       "    <tr>\n",
       "      <th>336771</th>\n",
       "      <td>336771</td>\n",
       "      <td>2013</td>\n",
       "      <td>9</td>\n",
       "      <td>30</td>\n",
       "      <td>NaN</td>\n",
       "      <td>1455</td>\n",
       "      <td>NaN</td>\n",
       "      <td>NaN</td>\n",
       "      <td>1634</td>\n",
       "      <td>NaN</td>\n",
       "      <td>...</td>\n",
       "      <td>2013-09-30</td>\n",
       "      <td>0</td>\n",
       "      <td>0</td>\n",
       "      <td>-1.0</td>\n",
       "      <td>-1.836970e-16</td>\n",
       "      <td>14</td>\n",
       "      <td>55</td>\n",
       "      <td>NaN</td>\n",
       "      <td>JFK_DCA</td>\n",
       "      <td>16.725769</td>\n",
       "    </tr>\n",
       "    <tr>\n",
       "      <th>336772</th>\n",
       "      <td>336772</td>\n",
       "      <td>2013</td>\n",
       "      <td>9</td>\n",
       "      <td>30</td>\n",
       "      <td>NaN</td>\n",
       "      <td>2200</td>\n",
       "      <td>NaN</td>\n",
       "      <td>NaN</td>\n",
       "      <td>2312</td>\n",
       "      <td>NaN</td>\n",
       "      <td>...</td>\n",
       "      <td>2013-09-30</td>\n",
       "      <td>0</td>\n",
       "      <td>0</td>\n",
       "      <td>-1.0</td>\n",
       "      <td>-1.836970e-16</td>\n",
       "      <td>22</td>\n",
       "      <td>0</td>\n",
       "      <td>NaN</td>\n",
       "      <td>LGA_SYR</td>\n",
       "      <td>16.725769</td>\n",
       "    </tr>\n",
       "    <tr>\n",
       "      <th>336773</th>\n",
       "      <td>336773</td>\n",
       "      <td>2013</td>\n",
       "      <td>9</td>\n",
       "      <td>30</td>\n",
       "      <td>NaN</td>\n",
       "      <td>1210</td>\n",
       "      <td>NaN</td>\n",
       "      <td>NaN</td>\n",
       "      <td>1330</td>\n",
       "      <td>NaN</td>\n",
       "      <td>...</td>\n",
       "      <td>2013-09-30</td>\n",
       "      <td>0</td>\n",
       "      <td>0</td>\n",
       "      <td>-1.0</td>\n",
       "      <td>-1.836970e-16</td>\n",
       "      <td>12</td>\n",
       "      <td>10</td>\n",
       "      <td>NaN</td>\n",
       "      <td>LGA_BNA</td>\n",
       "      <td>10.552041</td>\n",
       "    </tr>\n",
       "    <tr>\n",
       "      <th>336774</th>\n",
       "      <td>336774</td>\n",
       "      <td>2013</td>\n",
       "      <td>9</td>\n",
       "      <td>30</td>\n",
       "      <td>NaN</td>\n",
       "      <td>1159</td>\n",
       "      <td>NaN</td>\n",
       "      <td>NaN</td>\n",
       "      <td>1344</td>\n",
       "      <td>NaN</td>\n",
       "      <td>...</td>\n",
       "      <td>2013-09-30</td>\n",
       "      <td>0</td>\n",
       "      <td>0</td>\n",
       "      <td>-1.0</td>\n",
       "      <td>-1.836970e-16</td>\n",
       "      <td>11</td>\n",
       "      <td>59</td>\n",
       "      <td>NaN</td>\n",
       "      <td>LGA_CLE</td>\n",
       "      <td>10.552041</td>\n",
       "    </tr>\n",
       "    <tr>\n",
       "      <th>336775</th>\n",
       "      <td>336775</td>\n",
       "      <td>2013</td>\n",
       "      <td>9</td>\n",
       "      <td>30</td>\n",
       "      <td>NaN</td>\n",
       "      <td>840</td>\n",
       "      <td>NaN</td>\n",
       "      <td>NaN</td>\n",
       "      <td>1020</td>\n",
       "      <td>NaN</td>\n",
       "      <td>...</td>\n",
       "      <td>2013-09-30</td>\n",
       "      <td>0</td>\n",
       "      <td>0</td>\n",
       "      <td>-1.0</td>\n",
       "      <td>-1.836970e-16</td>\n",
       "      <td>8</td>\n",
       "      <td>40</td>\n",
       "      <td>NaN</td>\n",
       "      <td>LGA_RDU</td>\n",
       "      <td>10.552041</td>\n",
       "    </tr>\n",
       "  </tbody>\n",
       "</table>\n",
       "<p>5 rows × 31 columns</p>\n",
       "</div>"
      ],
      "text/plain": [
       "            id  year  month  day  dep_time  sched_dep_time  dep_delay  \\\n",
       "336771  336771  2013      9   30       NaN            1455        NaN   \n",
       "336772  336772  2013      9   30       NaN            2200        NaN   \n",
       "336773  336773  2013      9   30       NaN            1210        NaN   \n",
       "336774  336774  2013      9   30       NaN            1159        NaN   \n",
       "336775  336775  2013      9   30       NaN             840        NaN   \n",
       "\n",
       "        arr_time  sched_arr_time  arr_delay  ...       date  day_of_week  \\\n",
       "336771       NaN            1634        NaN  ... 2013-09-30            0   \n",
       "336772       NaN            2312        NaN  ... 2013-09-30            0   \n",
       "336773       NaN            1330        NaN  ... 2013-09-30            0   \n",
       "336774       NaN            1344        NaN  ... 2013-09-30            0   \n",
       "336775       NaN            1020        NaN  ... 2013-09-30            0   \n",
       "\n",
       "       weekend month_sin     month_cos  sched_dep_hour  sched_dep_minute  \\\n",
       "336771       0      -1.0 -1.836970e-16              14                55   \n",
       "336772       0      -1.0 -1.836970e-16              22                 0   \n",
       "336773       0      -1.0 -1.836970e-16              12                10   \n",
       "336774       0      -1.0 -1.836970e-16              11                59   \n",
       "336775       0      -1.0 -1.836970e-16               8                40   \n",
       "\n",
       "        avg_speed    route carrier_avg_delay  \n",
       "336771        NaN  JFK_DCA         16.725769  \n",
       "336772        NaN  LGA_SYR         16.725769  \n",
       "336773        NaN  LGA_BNA         10.552041  \n",
       "336774        NaN  LGA_CLE         10.552041  \n",
       "336775        NaN  LGA_RDU         10.552041  \n",
       "\n",
       "[5 rows x 31 columns]"
      ]
     },
     "execution_count": 14,
     "metadata": {},
     "output_type": "execute_result"
    }
   ],
   "source": [
    "df.tail()"
   ]
  },
  {
   "cell_type": "markdown",
   "id": "3bdc8850",
   "metadata": {
    "papermill": {
     "duration": 0.010536,
     "end_time": "2025-05-24T22:28:10.601748",
     "exception": false,
     "start_time": "2025-05-24T22:28:10.591212",
     "status": "completed"
    },
    "tags": []
   },
   "source": [
    "Boş hücreleri bir önceki hücrede yer alan verilerle doldurduk."
   ]
  },
  {
   "cell_type": "code",
   "execution_count": 15,
   "id": "e202dc97",
   "metadata": {
    "execution": {
     "iopub.execute_input": "2025-05-24T22:28:10.625616Z",
     "iopub.status.busy": "2025-05-24T22:28:10.625208Z",
     "iopub.status.idle": "2025-05-24T22:28:10.702704Z",
     "shell.execute_reply": "2025-05-24T22:28:10.701690Z"
    },
    "papermill": {
     "duration": 0.092076,
     "end_time": "2025-05-24T22:28:10.705000",
     "exception": false,
     "start_time": "2025-05-24T22:28:10.612924",
     "status": "completed"
    },
    "tags": []
   },
   "outputs": [],
   "source": [
    "df['dep_time'] = df['dep_time'].ffill()\n",
    "df['dep_delay'] = df['dep_delay'].ffill()\n",
    "df['arr_time'] = df['arr_time'].ffill()\n",
    "df['arr_delay'] = df['arr_delay'].ffill()\n",
    "df['tailnum'] = df['tailnum'].ffill()\n",
    "df['air_time'] = df['air_time'].ffill()\n",
    "df['avg_speed'] = df['avg_speed'].ffill()"
   ]
  },
  {
   "cell_type": "markdown",
   "id": "5f02465e",
   "metadata": {
    "papermill": {
     "duration": 0.010262,
     "end_time": "2025-05-24T22:28:10.726053",
     "exception": false,
     "start_time": "2025-05-24T22:28:10.715791",
     "status": "completed"
    },
    "tags": []
   },
   "source": [
    "Tekrar hücredeki boş hücrelerin sayısını gözlemledik."
   ]
  },
  {
   "cell_type": "code",
   "execution_count": 16,
   "id": "89212a83",
   "metadata": {
    "execution": {
     "iopub.execute_input": "2025-05-24T22:28:10.750506Z",
     "iopub.status.busy": "2025-05-24T22:28:10.749229Z",
     "iopub.status.idle": "2025-05-24T22:28:10.889297Z",
     "shell.execute_reply": "2025-05-24T22:28:10.888184Z"
    },
    "papermill": {
     "duration": 0.15465,
     "end_time": "2025-05-24T22:28:10.891840",
     "exception": false,
     "start_time": "2025-05-24T22:28:10.737190",
     "status": "completed"
    },
    "tags": []
   },
   "outputs": [
    {
     "data": {
      "text/plain": [
       "id                   0\n",
       "year                 0\n",
       "month                0\n",
       "day                  0\n",
       "dep_time             0\n",
       "sched_dep_time       0\n",
       "dep_delay            0\n",
       "arr_time             0\n",
       "sched_arr_time       0\n",
       "arr_delay            0\n",
       "carrier              0\n",
       "flight               0\n",
       "tailnum              0\n",
       "origin               0\n",
       "dest                 0\n",
       "air_time             0\n",
       "distance             0\n",
       "hour                 0\n",
       "minute               0\n",
       "time_hour            0\n",
       "name                 0\n",
       "date                 0\n",
       "day_of_week          0\n",
       "weekend              0\n",
       "month_sin            0\n",
       "month_cos            0\n",
       "sched_dep_hour       0\n",
       "sched_dep_minute     0\n",
       "avg_speed            0\n",
       "route                0\n",
       "carrier_avg_delay    0\n",
       "dtype: int64"
      ]
     },
     "execution_count": 16,
     "metadata": {},
     "output_type": "execute_result"
    }
   ],
   "source": [
    "df.isnull().sum()"
   ]
  },
  {
   "cell_type": "code",
   "execution_count": 17,
   "id": "41761f59",
   "metadata": {
    "execution": {
     "iopub.execute_input": "2025-05-24T22:28:10.915738Z",
     "iopub.status.busy": "2025-05-24T22:28:10.915314Z",
     "iopub.status.idle": "2025-05-24T22:28:10.946418Z",
     "shell.execute_reply": "2025-05-24T22:28:10.944842Z"
    },
    "papermill": {
     "duration": 0.045798,
     "end_time": "2025-05-24T22:28:10.948630",
     "exception": false,
     "start_time": "2025-05-24T22:28:10.902832",
     "status": "completed"
    },
    "tags": []
   },
   "outputs": [
    {
     "data": {
      "text/html": [
       "<div>\n",
       "<style scoped>\n",
       "    .dataframe tbody tr th:only-of-type {\n",
       "        vertical-align: middle;\n",
       "    }\n",
       "\n",
       "    .dataframe tbody tr th {\n",
       "        vertical-align: top;\n",
       "    }\n",
       "\n",
       "    .dataframe thead th {\n",
       "        text-align: right;\n",
       "    }\n",
       "</style>\n",
       "<table border=\"1\" class=\"dataframe\">\n",
       "  <thead>\n",
       "    <tr style=\"text-align: right;\">\n",
       "      <th></th>\n",
       "      <th>id</th>\n",
       "      <th>year</th>\n",
       "      <th>month</th>\n",
       "      <th>day</th>\n",
       "      <th>dep_time</th>\n",
       "      <th>sched_dep_time</th>\n",
       "      <th>dep_delay</th>\n",
       "      <th>arr_time</th>\n",
       "      <th>sched_arr_time</th>\n",
       "      <th>arr_delay</th>\n",
       "      <th>...</th>\n",
       "      <th>date</th>\n",
       "      <th>day_of_week</th>\n",
       "      <th>weekend</th>\n",
       "      <th>month_sin</th>\n",
       "      <th>month_cos</th>\n",
       "      <th>sched_dep_hour</th>\n",
       "      <th>sched_dep_minute</th>\n",
       "      <th>avg_speed</th>\n",
       "      <th>route</th>\n",
       "      <th>carrier_avg_delay</th>\n",
       "    </tr>\n",
       "  </thead>\n",
       "  <tbody>\n",
       "    <tr>\n",
       "      <th>0</th>\n",
       "      <td>0</td>\n",
       "      <td>2013</td>\n",
       "      <td>1</td>\n",
       "      <td>1</td>\n",
       "      <td>517.0</td>\n",
       "      <td>515</td>\n",
       "      <td>2.0</td>\n",
       "      <td>830.0</td>\n",
       "      <td>819</td>\n",
       "      <td>11.0</td>\n",
       "      <td>...</td>\n",
       "      <td>2013-01-01</td>\n",
       "      <td>1</td>\n",
       "      <td>0</td>\n",
       "      <td>0.5</td>\n",
       "      <td>0.866025</td>\n",
       "      <td>5</td>\n",
       "      <td>15</td>\n",
       "      <td>370.044053</td>\n",
       "      <td>EWR_IAH</td>\n",
       "      <td>12.106073</td>\n",
       "    </tr>\n",
       "    <tr>\n",
       "      <th>1</th>\n",
       "      <td>1</td>\n",
       "      <td>2013</td>\n",
       "      <td>1</td>\n",
       "      <td>1</td>\n",
       "      <td>533.0</td>\n",
       "      <td>529</td>\n",
       "      <td>4.0</td>\n",
       "      <td>850.0</td>\n",
       "      <td>830</td>\n",
       "      <td>20.0</td>\n",
       "      <td>...</td>\n",
       "      <td>2013-01-01</td>\n",
       "      <td>1</td>\n",
       "      <td>0</td>\n",
       "      <td>0.5</td>\n",
       "      <td>0.866025</td>\n",
       "      <td>5</td>\n",
       "      <td>29</td>\n",
       "      <td>374.273128</td>\n",
       "      <td>LGA_IAH</td>\n",
       "      <td>12.106073</td>\n",
       "    </tr>\n",
       "    <tr>\n",
       "      <th>2</th>\n",
       "      <td>2</td>\n",
       "      <td>2013</td>\n",
       "      <td>1</td>\n",
       "      <td>1</td>\n",
       "      <td>542.0</td>\n",
       "      <td>540</td>\n",
       "      <td>2.0</td>\n",
       "      <td>923.0</td>\n",
       "      <td>850</td>\n",
       "      <td>33.0</td>\n",
       "      <td>...</td>\n",
       "      <td>2013-01-01</td>\n",
       "      <td>1</td>\n",
       "      <td>0</td>\n",
       "      <td>0.5</td>\n",
       "      <td>0.866025</td>\n",
       "      <td>5</td>\n",
       "      <td>40</td>\n",
       "      <td>408.375000</td>\n",
       "      <td>JFK_MIA</td>\n",
       "      <td>8.586016</td>\n",
       "    </tr>\n",
       "    <tr>\n",
       "      <th>3</th>\n",
       "      <td>3</td>\n",
       "      <td>2013</td>\n",
       "      <td>1</td>\n",
       "      <td>1</td>\n",
       "      <td>544.0</td>\n",
       "      <td>545</td>\n",
       "      <td>-1.0</td>\n",
       "      <td>1004.0</td>\n",
       "      <td>1022</td>\n",
       "      <td>-18.0</td>\n",
       "      <td>...</td>\n",
       "      <td>2013-01-01</td>\n",
       "      <td>1</td>\n",
       "      <td>0</td>\n",
       "      <td>0.5</td>\n",
       "      <td>0.866025</td>\n",
       "      <td>5</td>\n",
       "      <td>45</td>\n",
       "      <td>516.721311</td>\n",
       "      <td>JFK_BQN</td>\n",
       "      <td>13.022522</td>\n",
       "    </tr>\n",
       "    <tr>\n",
       "      <th>4</th>\n",
       "      <td>4</td>\n",
       "      <td>2013</td>\n",
       "      <td>1</td>\n",
       "      <td>1</td>\n",
       "      <td>554.0</td>\n",
       "      <td>600</td>\n",
       "      <td>-6.0</td>\n",
       "      <td>812.0</td>\n",
       "      <td>837</td>\n",
       "      <td>-25.0</td>\n",
       "      <td>...</td>\n",
       "      <td>2013-01-01</td>\n",
       "      <td>1</td>\n",
       "      <td>0</td>\n",
       "      <td>0.5</td>\n",
       "      <td>0.866025</td>\n",
       "      <td>6</td>\n",
       "      <td>0</td>\n",
       "      <td>394.137931</td>\n",
       "      <td>LGA_ATL</td>\n",
       "      <td>9.264505</td>\n",
       "    </tr>\n",
       "  </tbody>\n",
       "</table>\n",
       "<p>5 rows × 31 columns</p>\n",
       "</div>"
      ],
      "text/plain": [
       "   id  year  month  day  dep_time  sched_dep_time  dep_delay  arr_time  \\\n",
       "0   0  2013      1    1     517.0             515        2.0     830.0   \n",
       "1   1  2013      1    1     533.0             529        4.0     850.0   \n",
       "2   2  2013      1    1     542.0             540        2.0     923.0   \n",
       "3   3  2013      1    1     544.0             545       -1.0    1004.0   \n",
       "4   4  2013      1    1     554.0             600       -6.0     812.0   \n",
       "\n",
       "   sched_arr_time  arr_delay  ...       date  day_of_week weekend month_sin  \\\n",
       "0             819       11.0  ... 2013-01-01            1       0       0.5   \n",
       "1             830       20.0  ... 2013-01-01            1       0       0.5   \n",
       "2             850       33.0  ... 2013-01-01            1       0       0.5   \n",
       "3            1022      -18.0  ... 2013-01-01            1       0       0.5   \n",
       "4             837      -25.0  ... 2013-01-01            1       0       0.5   \n",
       "\n",
       "  month_cos  sched_dep_hour  sched_dep_minute   avg_speed    route  \\\n",
       "0  0.866025               5                15  370.044053  EWR_IAH   \n",
       "1  0.866025               5                29  374.273128  LGA_IAH   \n",
       "2  0.866025               5                40  408.375000  JFK_MIA   \n",
       "3  0.866025               5                45  516.721311  JFK_BQN   \n",
       "4  0.866025               6                 0  394.137931  LGA_ATL   \n",
       "\n",
       "  carrier_avg_delay  \n",
       "0         12.106073  \n",
       "1         12.106073  \n",
       "2          8.586016  \n",
       "3         13.022522  \n",
       "4          9.264505  \n",
       "\n",
       "[5 rows x 31 columns]"
      ]
     },
     "execution_count": 17,
     "metadata": {},
     "output_type": "execute_result"
    }
   ],
   "source": [
    "df.head()"
   ]
  },
  {
   "cell_type": "markdown",
   "id": "7c0dd933",
   "metadata": {
    "papermill": {
     "duration": 0.011028,
     "end_time": "2025-05-24T22:28:10.971534",
     "exception": false,
     "start_time": "2025-05-24T22:28:10.960506",
     "status": "completed"
    },
    "tags": []
   },
   "source": [
    "# **Aylara Göre Uçuş Sayısı**"
   ]
  },
  {
   "cell_type": "code",
   "execution_count": 18,
   "id": "56ac4fa7",
   "metadata": {
    "execution": {
     "iopub.execute_input": "2025-05-24T22:28:10.997166Z",
     "iopub.status.busy": "2025-05-24T22:28:10.995677Z",
     "iopub.status.idle": "2025-05-24T22:28:11.003025Z",
     "shell.execute_reply": "2025-05-24T22:28:11.001803Z"
    },
    "papermill": {
     "duration": 0.022811,
     "end_time": "2025-05-24T22:28:11.005697",
     "exception": false,
     "start_time": "2025-05-24T22:28:10.982886",
     "status": "completed"
    },
    "tags": []
   },
   "outputs": [
    {
     "name": "stdout",
     "output_type": "stream",
     "text": [
      "Index(['id', 'year', 'month', 'day', 'dep_time', 'sched_dep_time', 'dep_delay',\n",
      "       'arr_time', 'sched_arr_time', 'arr_delay', 'carrier', 'flight',\n",
      "       'tailnum', 'origin', 'dest', 'air_time', 'distance', 'hour', 'minute',\n",
      "       'time_hour', 'name', 'date', 'day_of_week', 'weekend', 'month_sin',\n",
      "       'month_cos', 'sched_dep_hour', 'sched_dep_minute', 'avg_speed', 'route',\n",
      "       'carrier_avg_delay'],\n",
      "      dtype='object')\n"
     ]
    }
   ],
   "source": [
    "print(df.columns)"
   ]
  },
  {
   "cell_type": "code",
   "execution_count": 19,
   "id": "fcf7a513",
   "metadata": {
    "execution": {
     "iopub.execute_input": "2025-05-24T22:28:11.031602Z",
     "iopub.status.busy": "2025-05-24T22:28:11.031184Z",
     "iopub.status.idle": "2025-05-24T22:28:11.533227Z",
     "shell.execute_reply": "2025-05-24T22:28:11.532055Z"
    },
    "papermill": {
     "duration": 0.517709,
     "end_time": "2025-05-24T22:28:11.535101",
     "exception": false,
     "start_time": "2025-05-24T22:28:11.017392",
     "status": "completed"
    },
    "tags": []
   },
   "outputs": [
    {
     "data": {
      "image/png": "[encoded data removed]",
      "text/plain": [
       "<Figure size 1000x600 with 1 Axes>"
      ]
     },
     "metadata": {},
     "output_type": "display_data"
    }
   ],
   "source": [
    "plt.figure(figsize=(10, 6))\n",
    "sns.countplot(x=\"month\", data=df, palette=\"viridis\")\n",
    "plt.title(\"Aylara Göre Uçuş Sayısı\")\n",
    "plt.xlabel(\"Ay\")\n",
    "plt.ylabel(\"Uçuş Sayısı\")\n",
    "plt.xticks(rotation=45)\n",
    "plt.tight_layout()\n",
    "plt.show()\n"
   ]
  },
  {
   "cell_type": "markdown",
   "id": "d7a8fd46",
   "metadata": {
    "papermill": {
     "duration": 0.011581,
     "end_time": "2025-05-24T22:28:11.559399",
     "exception": false,
     "start_time": "2025-05-24T22:28:11.547818",
     "status": "completed"
    },
    "tags": []
   },
   "source": [
    "# **Havayolu Şirketlerine Göre Uçuş Sayısı**"
   ]
  },
  {
   "cell_type": "code",
   "execution_count": 20,
   "id": "0a0f3d1f",
   "metadata": {
    "execution": {
     "iopub.execute_input": "2025-05-24T22:28:11.586150Z",
     "iopub.status.busy": "2025-05-24T22:28:11.585692Z",
     "iopub.status.idle": "2025-05-24T22:28:12.063868Z",
     "shell.execute_reply": "2025-05-24T22:28:12.062475Z"
    },
    "papermill": {
     "duration": 0.494484,
     "end_time": "2025-05-24T22:28:12.065972",
     "exception": false,
     "start_time": "2025-05-24T22:28:11.571488",
     "status": "completed"
    },
    "tags": []
   },
   "outputs": [
    {
     "data": {
      "image/png": "[encoded data removed]",
      "text/plain": [
       "<Figure size 1200x600 with 1 Axes>"
      ]
     },
     "metadata": {},
     "output_type": "display_data"
    }
   ],
   "source": [
    "plt.figure(figsize=(12, 6))\n",
    "sns.countplot(y=\"carrier\", data=df, order=df[\"carrier\"].value_counts().index, palette=\"magma\")\n",
    "plt.title(\"Havayolu Şirketlerine Göre Uçuş Sayısı\")\n",
    "plt.xlabel(\"Uçuş Sayısı\")\n",
    "plt.ylabel(\"Havayolu\")\n",
    "plt.tight_layout()\n",
    "plt.show()\n"
   ]
  },
  {
   "cell_type": "markdown",
   "id": "40d210da",
   "metadata": {
    "papermill": {
     "duration": 0.012638,
     "end_time": "2025-05-24T22:28:12.094576",
     "exception": false,
     "start_time": "2025-05-24T22:28:12.081938",
     "status": "completed"
    },
    "tags": []
   },
   "source": [
    "# **Gecikmeli Uçuşların Dağılımı (Kalkış Gecikmesi)**"
   ]
  },
  {
   "cell_type": "code",
   "execution_count": 21,
   "id": "b500e0ac",
   "metadata": {
    "execution": {
     "iopub.execute_input": "2025-05-24T22:28:12.121492Z",
     "iopub.status.busy": "2025-05-24T22:28:12.121067Z",
     "iopub.status.idle": "2025-05-24T22:28:14.061315Z",
     "shell.execute_reply": "2025-05-24T22:28:14.060048Z"
    },
    "papermill": {
     "duration": 1.956054,
     "end_time": "2025-05-24T22:28:14.063229",
     "exception": false,
     "start_time": "2025-05-24T22:28:12.107175",
     "status": "completed"
    },
    "tags": []
   },
   "outputs": [
    {
     "data": {
      "image/png": "[encoded data removed]",
      "text/plain": [
       "<Figure size 1000x600 with 1 Axes>"
      ]
     },
     "metadata": {},
     "output_type": "display_data"
    }
   ],
   "source": [
    "plt.figure(figsize=(10, 6))\n",
    "sns.histplot(df[\"dep_delay\"].dropna(), bins=50, kde=True, color=\"red\")\n",
    "plt.title(\"Kalkış Gecikmesi Dağılımı\")\n",
    "plt.xlabel(\"Gecikme (Dakika)\")\n",
    "plt.ylabel(\"Uçuş Sayısı\")\n",
    "plt.xlim(-20, 200)  # Aykırı değerleri dışarda bırakmak için\n",
    "plt.tight_layout()\n",
    "plt.show()"
   ]
  },
  {
   "cell_type": "markdown",
   "id": "e8edb15a",
   "metadata": {
    "papermill": {
     "duration": 0.013529,
     "end_time": "2025-05-24T22:28:14.090896",
     "exception": false,
     "start_time": "2025-05-24T22:28:14.077367",
     "status": "completed"
    },
    "tags": []
   },
   "source": [
    "# **Gün Bazında Ortalama Gecikmeler**"
   ]
  },
  {
   "cell_type": "code",
   "execution_count": 22,
   "id": "0a9b4ea1",
   "metadata": {
    "execution": {
     "iopub.execute_input": "2025-05-24T22:28:14.120391Z",
     "iopub.status.busy": "2025-05-24T22:28:14.119223Z",
     "iopub.status.idle": "2025-05-24T22:28:14.422720Z",
     "shell.execute_reply": "2025-05-24T22:28:14.421378Z"
    },
    "papermill": {
     "duration": 0.320722,
     "end_time": "2025-05-24T22:28:14.424959",
     "exception": false,
     "start_time": "2025-05-24T22:28:14.104237",
     "status": "completed"
    },
    "tags": []
   },
   "outputs": [
    {
     "data": {
      "image/png": "[encoded data removed]",
      "text/plain": [
       "<Figure size 1000x600 with 1 Axes>"
      ]
     },
     "metadata": {},
     "output_type": "display_data"
    }
   ],
   "source": [
    "daily_delay = df.groupby(\"day\")[\"dep_delay\"].mean()\n",
    "\n",
    "plt.figure(figsize=(10, 6))\n",
    "sns.lineplot(x=daily_delay.index, y=daily_delay.values, marker=\"o\")\n",
    "plt.title(\"Günlere Göre Ortalama Kalkış Gecikmeleri\")\n",
    "plt.xlabel(\"Gün\")\n",
    "plt.ylabel(\"Ortalama Gecikme (dk)\")\n",
    "plt.grid(True)\n",
    "plt.tight_layout()\n",
    "plt.show()"
   ]
  },
  {
   "cell_type": "markdown",
   "id": "71b1c8d3",
   "metadata": {
    "papermill": {
     "duration": 0.015918,
     "end_time": "2025-05-24T22:28:14.458156",
     "exception": false,
     "start_time": "2025-05-24T22:28:14.442238",
     "status": "completed"
    },
    "tags": []
   },
   "source": [
    "Model denemek için kütüphaneleri import ettik."
   ]
  },
  {
   "cell_type": "code",
   "execution_count": 23,
   "id": "271fb841",
   "metadata": {
    "execution": {
     "iopub.execute_input": "2025-05-24T22:28:14.490216Z",
     "iopub.status.busy": "2025-05-24T22:28:14.489808Z",
     "iopub.status.idle": "2025-05-24T22:28:26.463282Z",
     "shell.execute_reply": "2025-05-24T22:28:26.461580Z"
    },
    "papermill": {
     "duration": 11.99258,
     "end_time": "2025-05-24T22:28:26.465913",
     "exception": false,
     "start_time": "2025-05-24T22:28:14.473333",
     "status": "completed"
    },
    "tags": []
   },
   "outputs": [],
   "source": [
    "# Klasik model: Random Forest\n",
    "from sklearn.ensemble import RandomForestRegressor  # Birden çok karar ağacına dayalı regresyon modeli\n",
    "\n",
    "# Alternatif modeller:\n",
    "import xgboost as xgb  # XGBoost: Hızlı ve etkili bir boosting algoritması\n",
    "from sklearn.ensemble import GradientBoostingRegressor  # sklearn içerisindeki boosting algoritması\n",
    "from lightgbm import LGBMRegressor  # LightGBM: Büyük veri setlerinde verimli çalışan boosting algoritması"
   ]
  },
  {
   "cell_type": "code",
   "execution_count": 24,
   "id": "696319bd",
   "metadata": {
    "execution": {
     "iopub.execute_input": "2025-05-24T22:28:26.499224Z",
     "iopub.status.busy": "2025-05-24T22:28:26.498389Z",
     "iopub.status.idle": "2025-05-24T22:28:27.016486Z",
     "shell.execute_reply": "2025-05-24T22:28:27.015088Z"
    },
    "papermill": {
     "duration": 0.536754,
     "end_time": "2025-05-24T22:28:27.018557",
     "exception": false,
     "start_time": "2025-05-24T22:28:26.481803",
     "status": "completed"
    },
    "tags": []
   },
   "outputs": [],
   "source": [
    "# Eğitim verisini Ocak-Eylül olarak ayırıyoruz:\n",
    "train_df = df[df['month'] <= 9].copy()\n",
    "\n",
    "# Test verisini Ekim-Aralık olarak ayırıyoruz:\n",
    "test_df = df[df['month'] > 9].copy()\n",
    "\n",
    "# Hedef ve özellikleri belirledik\n",
    "target = 'dep_delay'\n",
    "features = ['month', 'day', 'hour', 'origin', 'dest', 'distance', 'air_time']\n",
    "\n",
    "# Kategorik değişkenler var ise get_dummies ile dönüştürelim:\n",
    "train_X = pd.get_dummies(train_df[features])\n",
    "test_X = pd.get_dummies(test_df[features])\n",
    "\n",
    "# Eğitim ve test verilerindeki sütunları eşitleyelim:\n",
    "train_X, test_X = train_X.align(test_X, join='left', axis=1, fill_value=0)\n",
    "train_y = train_df[target]\n"
   ]
  },
  {
   "cell_type": "markdown",
   "id": "0b740e07",
   "metadata": {
    "papermill": {
     "duration": 0.014298,
     "end_time": "2025-05-24T22:28:27.048258",
     "exception": false,
     "start_time": "2025-05-24T22:28:27.033960",
     "status": "completed"
    },
    "tags": []
   },
   "source": [
    "# **3. Model Eğitimi ve Tahmin** \n",
    "**a. RandomForestRegressor (Referans Model)** "
   ]
  },
  {
   "cell_type": "code",
   "execution_count": 25,
   "id": "5ec98e37",
   "metadata": {
    "execution": {
     "iopub.execute_input": "2025-05-24T22:28:27.080161Z",
     "iopub.status.busy": "2025-05-24T22:28:27.079616Z",
     "iopub.status.idle": "2025-05-24T22:31:01.562399Z",
     "shell.execute_reply": "2025-05-24T22:31:01.561058Z"
    },
    "papermill": {
     "duration": 154.50218,
     "end_time": "2025-05-24T22:31:01.565364",
     "exception": false,
     "start_time": "2025-05-24T22:28:27.063184",
     "status": "completed"
    },
    "tags": []
   },
   "outputs": [
    {
     "name": "stderr",
     "output_type": "stream",
     "text": [
      "2025-05-24 22:28:31.139776: E external/local_xla/xla/stream_executor/cuda/cuda_fft.cc:477] Unable to register cuFFT factory: Attempting to register factory for plugin cuFFT when one has already been registered\n",
      "WARNING: All log messages before absl::InitializeLog() is called are written to STDERR\n",
      "E0000 00:00:1748125711.660761      13 cuda_dnn.cc:8310] Unable to register cuDNN factory: Attempting to register factory for plugin cuDNN when one has already been registered\n",
      "E0000 00:00:1748125711.808513      13 cuda_blas.cc:1418] Unable to register cuBLAS factory: Attempting to register factory for plugin cuBLAS when one has already been registered\n",
      "2025-05-24 22:28:55.278206: E external/local_xla/xla/stream_executor/cuda/cuda_driver.cc:152] failed call to cuInit: INTERNAL: CUDA error: Failed call to cuInit: UNKNOWN ERROR (303)\n"
     ]
    },
    {
     "name": "stdout",
     "output_type": "stream",
     "text": [
      "Epoch 1/10\n",
      "\u001b[1m3946/3946\u001b[0m \u001b[32m━━━━━━━━━━━━━━━━━━━━\u001b[0m\u001b[37m\u001b[0m \u001b[1m13s\u001b[0m 3ms/step - loss: 21.5067\n",
      "Epoch 2/10\n",
      "\u001b[1m3946/3946\u001b[0m \u001b[32m━━━━━━━━━━━━━━━━━━━━\u001b[0m\u001b[37m\u001b[0m \u001b[1m12s\u001b[0m 3ms/step - loss: 21.0220\n",
      "Epoch 3/10\n",
      "\u001b[1m3946/3946\u001b[0m \u001b[32m━━━━━━━━━━━━━━━━━━━━\u001b[0m\u001b[37m\u001b[0m \u001b[1m12s\u001b[0m 3ms/step - loss: 20.8820\n",
      "Epoch 4/10\n",
      "\u001b[1m3946/3946\u001b[0m \u001b[32m━━━━━━━━━━━━━━━━━━━━\u001b[0m\u001b[37m\u001b[0m \u001b[1m12s\u001b[0m 3ms/step - loss: 20.6924\n",
      "Epoch 5/10\n",
      "\u001b[1m3946/3946\u001b[0m \u001b[32m━━━━━━━━━━━━━━━━━━━━\u001b[0m\u001b[37m\u001b[0m \u001b[1m12s\u001b[0m 3ms/step - loss: 20.6443\n",
      "Epoch 6/10\n",
      "\u001b[1m3946/3946\u001b[0m \u001b[32m━━━━━━━━━━━━━━━━━━━━\u001b[0m\u001b[37m\u001b[0m \u001b[1m12s\u001b[0m 3ms/step - loss: 20.5322\n",
      "Epoch 7/10\n",
      "\u001b[1m3946/3946\u001b[0m \u001b[32m━━━━━━━━━━━━━━━━━━━━\u001b[0m\u001b[37m\u001b[0m \u001b[1m12s\u001b[0m 3ms/step - loss: 20.3764\n",
      "Epoch 8/10\n",
      "\u001b[1m3946/3946\u001b[0m \u001b[32m━━━━━━━━━━━━━━━━━━━━\u001b[0m\u001b[37m\u001b[0m \u001b[1m12s\u001b[0m 3ms/step - loss: 20.3040\n",
      "Epoch 9/10\n",
      "\u001b[1m3946/3946\u001b[0m \u001b[32m━━━━━━━━━━━━━━━━━━━━\u001b[0m\u001b[37m\u001b[0m \u001b[1m12s\u001b[0m 3ms/step - loss: 20.3546\n",
      "Epoch 10/10\n",
      "\u001b[1m3946/3946\u001b[0m \u001b[32m━━━━━━━━━━━━━━━━━━━━\u001b[0m\u001b[37m\u001b[0m \u001b[1m12s\u001b[0m 3ms/step - loss: 20.1781\n",
      "\u001b[1m2635/2635\u001b[0m \u001b[32m━━━━━━━━━━━━━━━━━━━━\u001b[0m\u001b[37m\u001b[0m \u001b[1m5s\u001b[0m 2ms/step\n",
      "NN MAE: 16.112755472726082\n"
     ]
    }
   ],
   "source": [
    "# Keras'tan gerekli modülleri içe aktar (Sequential model ve Dense katmanı)\n",
    "from sklearn.metrics import mean_absolute_error\n",
    "from keras.models import Sequential\n",
    "from keras.layers import Dense\n",
    "\n",
    "# Boş bir Sequential model oluştur\n",
    "model = Sequential()\n",
    "\n",
    "# İlk gizli katman: 128 nöron, giriş boyutu train_X'in özellik sayısı kadar, aktivasyon fonksiyonu ReLU\n",
    "model.add(Dense(128, input_dim=train_X.shape[1], activation='relu'))\n",
    "\n",
    "# İkinci gizli katman: 64 nöron, aktivasyon fonksiyonu ReLU\n",
    "model.add(Dense(64, activation='relu'))\n",
    "\n",
    "# Çıkış katmanı: 1 nöron (tek bir sayısal değer tahmini için)\n",
    "model.add(Dense(1))  # çıkış katmanı\n",
    "\n",
    "# Modeli derle: Kayıp fonksiyonu olarak Ortalama Mutlak Hata (MAE), optimizasyon için Adam kullan\n",
    "model.compile(loss='mean_absolute_error', optimizer='adam')\n",
    "\n",
    "# Modeli eğit: eğitim verisi, 10 epoch, batch size 64\n",
    "model.fit(train_X, train_y, epochs=10, batch_size=64)\n",
    "\n",
    "# Test verisi üzerinde tahmin yap ve sonuçları test_df'ye 'predicted_nn' sütunu olarak ekle\n",
    "test_df['predicted_nn'] = model.predict(test_X).flatten()\n",
    "\n",
    "# Gerçek test değerleri ile tahmin edilen değerler arasındaki MAE'yi hesapla\n",
    "mae_nn = mean_absolute_error(test_df['dep_delay'], test_df['predicted_nn'])\n",
    "\n",
    "# Sinir ağı modelinin MAE değerini ekrana yazdır\n",
    "print(\"NN MAE:\", mae_nn)\n"
   ]
  },
  {
   "cell_type": "code",
   "execution_count": 26,
   "id": "0ccc318b",
   "metadata": {
    "execution": {
     "iopub.execute_input": "2025-05-24T22:31:01.896050Z",
     "iopub.status.busy": "2025-05-24T22:31:01.893513Z",
     "iopub.status.idle": "2025-05-24T22:31:03.435250Z",
     "shell.execute_reply": "2025-05-24T22:31:03.433552Z"
    },
    "papermill": {
     "duration": 1.715443,
     "end_time": "2025-05-24T22:31:03.437840",
     "exception": false,
     "start_time": "2025-05-24T22:31:01.722397",
     "status": "completed"
    },
    "tags": []
   },
   "outputs": [
    {
     "name": "stdout",
     "output_type": "stream",
     "text": [
      "[LightGBM] [Info] Auto-choosing row-wise multi-threading, the overhead of testing was 0.010819 seconds.\n",
      "You can set `force_row_wise=true` to remove the overhead.\n",
      "And if memory is not enough, you can set `force_col_wise=true`.\n",
      "[LightGBM] [Info] Total Bins 621\n",
      "[LightGBM] [Info] Number of data points in the train set: 252484, number of used features: 6\n",
      "[LightGBM] [Info] Start training from score 15.847622\n",
      "            date  dep_delay  predicted_dep_delay\n",
      "27004 2013-10-01      -13.0            -4.307213\n",
      "27005 2013-10-01        5.0            -3.909964\n",
      "27006 2013-10-01       -9.0            -3.813045\n",
      "27007 2013-10-01       -6.0            -3.813045\n",
      "27008 2013-10-01       -6.0            -3.813045\n"
     ]
    }
   ],
   "source": [
    "\n",
    "import pandas as pd\n",
    "import lightgbm as lgb\n",
    "\n",
    "# 'year', 'month' ve 'day' sütunlarından datetime formatında yeni 'date' sütunu oluştur\n",
    "df['date'] = pd.to_datetime(df[['year', 'month', 'day']])\n",
    "\n",
    "# Eğitim verisini 30 Eylül 2013 tarihine kadar olan verilerle oluştur\n",
    "train_df = df[df['date'] <= '2013-09-30']\n",
    "\n",
    "# Test verisini 1 Ekim 2013 ile 31 Aralık 2013 tarihleri arasındaki verilerle oluştur\n",
    "test_df = df[(df['date'] > '2013-09-30') & (df['date'] <= '2013-12-31')]\n",
    "\n",
    "# Modelde kullanılacak özellikler (bağımsız değişkenler)\n",
    "features = ['month', 'day', 'dep_time', 'sched_dep_time', 'hour', 'minute']\n",
    "\n",
    "# Tahmin edilmek istenen hedef değişken (bağımlı değişken)\n",
    "target = 'dep_delay'\n",
    "\n",
    "# Eğitim verisindeki özellikleri ve hedefi ayır\n",
    "train_X = train_df[features]\n",
    "train_y = train_df[target]\n",
    "\n",
    "# Test verisindeki özellikler\n",
    "test_X = test_df[features]\n",
    "\n",
    "# LightGBM regresyon modelini oluştur (rastgelelik sabitlenmiş)\n",
    "lgbm_model = lgb.LGBMRegressor(random_state=42)\n",
    "\n",
    "# Modeli eğitim verisi ile eğit\n",
    "lgbm_model.fit(train_X, train_y)\n",
    "\n",
    "# Test veri çerçevesinin kopyasını oluştur (orijinal veriyi değiştirmemek için)\n",
    "test_df = test_df.copy()\n",
    "\n",
    "# Test verisi üzerinde tahmin yap ve sonuçları yeni bir sütun olarak ekle\n",
    "test_df.loc[:, 'predicted_dep_delay'] = lgbm_model.predict(test_X)\n",
    "\n",
    "# Tarih, gerçek gecikme süresi ve tahmin edilen gecikme süresini göster\n",
    "print(test_df[['date', 'dep_delay', 'predicted_dep_delay']].head())\n",
    "\n"
   ]
  },
  {
   "cell_type": "code",
   "execution_count": 27,
   "id": "6dfa36ea",
   "metadata": {
    "execution": {
     "iopub.execute_input": "2025-05-24T22:31:03.752258Z",
     "iopub.status.busy": "2025-05-24T22:31:03.751849Z",
     "iopub.status.idle": "2025-05-24T22:31:03.764793Z",
     "shell.execute_reply": "2025-05-24T22:31:03.763498Z"
    },
    "papermill": {
     "duration": 0.171245,
     "end_time": "2025-05-24T22:31:03.766914",
     "exception": false,
     "start_time": "2025-05-24T22:31:03.595669",
     "status": "completed"
    },
    "tags": []
   },
   "outputs": [
    {
     "name": "stdout",
     "output_type": "stream",
     "text": [
      "MAE: 5.178666700296451\n",
      "RMSE: 13.070224053634886\n"
     ]
    }
   ],
   "source": [
    "\n",
    "from sklearn.metrics import mean_absolute_error, mean_squared_error\n",
    "import numpy as np\n",
    "\n",
    "# Gerçek değerler (test setindeki gerçek dep_delay sütunu)\n",
    "y_true = test_df['dep_delay']\n",
    "\n",
    "# Model tarafından tahmin edilen değerler\n",
    "y_pred = test_df['predicted_dep_delay']\n",
    "\n",
    "# Ortalama Mutlak Hata (MAE) hesapla — tahminlerin gerçeklerden ortalama ne kadar saptığını ölçer\n",
    "mae = mean_absolute_error(y_true, y_pred)\n",
    "\n",
    "# Ortalama Kare Hata (MSE) kökünü (RMSE) hesapla — hata sapmalarının karekökü, daha büyük hatalara daha fazla ceza verir\n",
    "rmse = np.sqrt(mean_squared_error(y_true, y_pred))\n",
    "\n",
    "# MAE değerini ekrana yazdır\n",
    "print(f\"MAE: {mae}\")\n",
    "\n",
    "# RMSE değerini ekrana yazdır\n",
    "print(f\"RMSE: {rmse}\")\n"
   ]
  },
  {
   "cell_type": "markdown",
   "id": "dfaeee2e",
   "metadata": {
    "papermill": {
     "duration": 0.156039,
     "end_time": "2025-05-24T22:31:04.081926",
     "exception": false,
     "start_time": "2025-05-24T22:31:03.925887",
     "status": "completed"
    },
    "tags": []
   },
   "source": [
    "# **1. Random Forest Regressor**"
   ]
  },
  {
   "cell_type": "code",
   "execution_count": 28,
   "id": "1be50455",
   "metadata": {
    "execution": {
     "iopub.execute_input": "2025-05-24T22:31:04.398002Z",
     "iopub.status.busy": "2025-05-24T22:31:04.397343Z",
     "iopub.status.idle": "2025-05-24T22:32:45.487700Z",
     "shell.execute_reply": "2025-05-24T22:32:45.486415Z"
    },
    "papermill": {
     "duration": 101.498429,
     "end_time": "2025-05-24T22:32:45.736380",
     "exception": false,
     "start_time": "2025-05-24T22:31:04.237951",
     "status": "completed"
    },
    "tags": []
   },
   "outputs": [
    {
     "name": "stdout",
     "output_type": "stream",
     "text": [
      "Random Forest MAE: 1.349458904759645\n",
      "Random Forest RMSE: 12.3997459093131\n"
     ]
    }
   ],
   "source": [
    "# Random Forest regresyon modeli için gerekli kütüphaneleri içe aktar\n",
    "from sklearn.ensemble import RandomForestRegressor\n",
    "from sklearn.metrics import mean_absolute_error, mean_squared_error\n",
    "import numpy as np\n",
    "\n",
    "# Random Forest modelini oluştur (100 ağaç, rastgelelik için sabit tohum)\n",
    "rf_model = RandomForestRegressor(random_state=42, n_estimators=100)\n",
    "\n",
    "# Modeli eğitim verisi üzerinde eğit\n",
    "rf_model.fit(train_X, train_y)\n",
    "\n",
    "# Test verisi üzerinde tahmin yap\n",
    "rf_pred = rf_model.predict(test_X)\n",
    "\n",
    "# Test verisindeki gerçek değerlerle model tahminleri arasındaki Ortalama Mutlak Hata'yı hesapla ve yazdır\n",
    "print(\"Random Forest MAE:\", mean_absolute_error(test_df['dep_delay'], rf_pred))\n",
    "\n",
    "# Test verisindeki gerçek değerlerle model tahminleri arasındaki Karekök Ortalama Kare Hata'yı (RMSE) hesapla ve yazdır\n",
    "print(\"Random Forest RMSE:\", np.sqrt(mean_squared_error(test_df['dep_delay'], rf_pred)))\n",
    "\n"
   ]
  },
  {
   "cell_type": "markdown",
   "id": "24fcba37",
   "metadata": {
    "papermill": {
     "duration": 0.160903,
     "end_time": "2025-05-24T22:32:46.052398",
     "exception": false,
     "start_time": "2025-05-24T22:32:45.891495",
     "status": "completed"
    },
    "tags": []
   },
   "source": [
    "# **2. XGBoost Regressor**"
   ]
  },
  {
   "cell_type": "code",
   "execution_count": 29,
   "id": "57285faf",
   "metadata": {
    "execution": {
     "iopub.execute_input": "2025-05-24T22:32:46.363592Z",
     "iopub.status.busy": "2025-05-24T22:32:46.363149Z",
     "iopub.status.idle": "2025-05-24T22:32:47.386433Z",
     "shell.execute_reply": "2025-05-24T22:32:47.385557Z"
    },
    "papermill": {
     "duration": 1.180105,
     "end_time": "2025-05-24T22:32:47.388244",
     "exception": false,
     "start_time": "2025-05-24T22:32:46.208139",
     "status": "completed"
    },
    "tags": []
   },
   "outputs": [
    {
     "name": "stdout",
     "output_type": "stream",
     "text": [
      "XGBoost MAE: 3.829828628404395\n",
      "XGBoost RMSE: 14.475787379289741\n"
     ]
    }
   ],
   "source": [
    "# XGBoost kütüphanesini içe aktar\n",
    "import xgboost as xgb\n",
    "\n",
    "# XGBoost regresyon modelini oluştur (100 ağaç, rastgelelik sabit)\n",
    "xgb_model = xgb.XGBRegressor(random_state=42, n_estimators=100)\n",
    "\n",
    "# Modeli eğitim verisi üzerinde eğit\n",
    "xgb_model.fit(train_X, train_y)\n",
    "\n",
    "# Test verisi üzerinde tahmin yap\n",
    "xgb_pred = xgb_model.predict(test_X)\n",
    "\n",
    "# Gerçek değerlerle tahmin edilen değerler arasındaki Ortalama Mutlak Hata'yı (MAE) hesapla ve yazdır\n",
    "print(\"XGBoost MAE:\", mean_absolute_error(test_df['dep_delay'], xgb_pred))\n",
    "\n",
    "# Gerçek değerlerle tahmin edilen değerler arasındaki Karekök Ortalama Kare Hata'yı (RMSE) hesapla ve yazdır\n",
    "print(\"XGBoost RMSE:\", np.sqrt(mean_squared_error(test_df['dep_delay'], xgb_pred)))\n",
    "\n"
   ]
  },
  {
   "cell_type": "markdown",
   "id": "ccdc0105",
   "metadata": {
    "papermill": {
     "duration": 0.156873,
     "end_time": "2025-05-24T22:32:47.701351",
     "exception": false,
     "start_time": "2025-05-24T22:32:47.544478",
     "status": "completed"
    },
    "tags": []
   },
   "source": [
    "# **3. CatBoost Regressor**"
   ]
  },
  {
   "cell_type": "code",
   "execution_count": 30,
   "id": "e7484bd9",
   "metadata": {
    "execution": {
     "iopub.execute_input": "2025-05-24T22:32:48.015255Z",
     "iopub.status.busy": "2025-05-24T22:32:48.014853Z",
     "iopub.status.idle": "2025-05-24T22:32:51.160550Z",
     "shell.execute_reply": "2025-05-24T22:32:51.159092Z"
    },
    "papermill": {
     "duration": 3.306478,
     "end_time": "2025-05-24T22:32:51.163027",
     "exception": false,
     "start_time": "2025-05-24T22:32:47.856549",
     "status": "completed"
    },
    "tags": []
   },
   "outputs": [
    {
     "name": "stdout",
     "output_type": "stream",
     "text": [
      "CatBoost MAE: 5.017421471888669\n",
      "CatBoost RMSE: 15.491546540468613\n"
     ]
    }
   ],
   "source": [
    "# CatBoost kütüphanesinden CatBoostRegressor sınıfını içe aktar\n",
    "from catboost import CatBoostRegressor\n",
    "\n",
    "# CatBoost regresyon modelini oluştur (100 iterasyon, sessiz modda, rastgelelik sabit)\n",
    "cat_model = CatBoostRegressor(random_state=42, verbose=0, iterations=100)\n",
    "\n",
    "# Modeli eğitim verisi üzerinde eğit\n",
    "cat_model.fit(train_X, train_y)\n",
    "\n",
    "# Test verisi üzerinde tahmin yap\n",
    "cat_pred = cat_model.predict(test_X)\n",
    "\n",
    "# Gerçek ve tahmin edilen değerler arasındaki Ortalama Mutlak Hata'yı (MAE) hesapla ve yazdır\n",
    "print(\"CatBoost MAE:\", mean_absolute_error(test_df['dep_delay'], cat_pred))\n",
    "\n",
    "# Gerçek ve tahmin edilen değerler arasındaki Karekök Ortalama Kare Hata'yı (RMSE) hesapla ve yazdır\n",
    "print(\"CatBoost RMSE:\", np.sqrt(mean_squared_error(test_df['dep_delay'], cat_pred)))\n"
   ]
  },
  {
   "cell_type": "markdown",
   "id": "344d294b",
   "metadata": {
    "papermill": {
     "duration": 0.16036,
     "end_time": "2025-05-24T22:32:51.484297",
     "exception": false,
     "start_time": "2025-05-24T22:32:51.323937",
     "status": "completed"
    },
    "tags": []
   },
   "source": [
    "# **4. Gradient Boosting Regressor (sklearn)**"
   ]
  },
  {
   "cell_type": "code",
   "execution_count": 31,
   "id": "53bb006c",
   "metadata": {
    "execution": {
     "iopub.execute_input": "2025-05-24T22:32:51.797725Z",
     "iopub.status.busy": "2025-05-24T22:32:51.797275Z",
     "iopub.status.idle": "2025-05-24T22:33:21.186559Z",
     "shell.execute_reply": "2025-05-24T22:33:21.184695Z"
    },
    "papermill": {
     "duration": 29.548785,
     "end_time": "2025-05-24T22:33:21.188983",
     "exception": false,
     "start_time": "2025-05-24T22:32:51.640198",
     "status": "completed"
    },
    "tags": []
   },
   "outputs": [
    {
     "name": "stdout",
     "output_type": "stream",
     "text": [
      "Gradient Boosting MAE: 8.083970507792625\n",
      "Gradient Boosting RMSE: 17.667021600915387\n"
     ]
    }
   ],
   "source": [
    "# Sklearn'den GradientBoostingRegressor sınıfını içe aktar\n",
    "from sklearn.ensemble import GradientBoostingRegressor\n",
    "\n",
    "# Gradient Boosting regresyon modelini oluştur (100 ağaç, rastgelelik sabit)\n",
    "gb_model = GradientBoostingRegressor(random_state=42, n_estimators=100)\n",
    "\n",
    "# Modeli eğitim verisi üzerinde eğit\n",
    "gb_model.fit(train_X, train_y)\n",
    "\n",
    "# Test verisi üzerinde tahmin yap\n",
    "gb_pred = gb_model.predict(test_X)\n",
    "\n",
    "# Gerçek değerler ile tahmin edilen değerler arasındaki Ortalama Mutlak Hata (MAE) hesapla ve yazdır\n",
    "print(\"Gradient Boosting MAE:\", mean_absolute_error(test_df['dep_delay'], gb_pred))\n",
    "\n",
    "# Gerçek değerler ile tahmin edilen değerler arasındaki Karekök Ortalama Kare Hata (RMSE) hesapla ve yazdır\n",
    "print(\"Gradient Boosting RMSE:\", np.sqrt(mean_squared_error(test_df['dep_delay'], gb_pred)))\n",
    "\n"
   ]
  },
  {
   "cell_type": "markdown",
   "id": "25ae0745",
   "metadata": {
    "papermill": {
     "duration": 0.157485,
     "end_time": "2025-05-24T22:33:21.501625",
     "exception": false,
     "start_time": "2025-05-24T22:33:21.344140",
     "status": "completed"
    },
    "tags": []
   },
   "source": []
  },
  {
   "cell_type": "code",
   "execution_count": 32,
   "id": "f87d4b67",
   "metadata": {
    "execution": {
     "iopub.execute_input": "2025-05-24T22:33:21.826678Z",
     "iopub.status.busy": "2025-05-24T22:33:21.826245Z",
     "iopub.status.idle": "2025-05-24T23:15:30.911435Z",
     "shell.execute_reply": "2025-05-24T23:15:30.909339Z"
    },
    "papermill": {
     "duration": 2529.254693,
     "end_time": "2025-05-24T23:15:30.914067",
     "exception": false,
     "start_time": "2025-05-24T22:33:21.659374",
     "status": "completed"
    },
    "tags": []
   },
   "outputs": [
    {
     "name": "stdout",
     "output_type": "stream",
     "text": [
      "Fitting 3 folds for each of 20 candidates, totalling 60 fits\n"
     ]
    },
    {
     "name": "stderr",
     "output_type": "stream",
     "text": [
      "/usr/local/lib/python3.11/dist-packages/sklearn/ensemble/_forest.py:413: FutureWarning: `max_features='auto'` has been deprecated in 1.1 and will be removed in 1.3. To keep the past behaviour, explicitly set `max_features=1.0` or remove this parameter as it is also the default value for RandomForestRegressors and ExtraTreesRegressors.\n",
      "  warn(\n",
      "/usr/local/lib/python3.11/dist-packages/sklearn/ensemble/_forest.py:413: FutureWarning: `max_features='auto'` has been deprecated in 1.1 and will be removed in 1.3. To keep the past behaviour, explicitly set `max_features=1.0` or remove this parameter as it is also the default value for RandomForestRegressors and ExtraTreesRegressors.\n",
      "  warn(\n",
      "/usr/local/lib/python3.11/dist-packages/sklearn/ensemble/_forest.py:413: FutureWarning: `max_features='auto'` has been deprecated in 1.1 and will be removed in 1.3. To keep the past behaviour, explicitly set `max_features=1.0` or remove this parameter as it is also the default value for RandomForestRegressors and ExtraTreesRegressors.\n",
      "  warn(\n"
     ]
    },
    {
     "name": "stdout",
     "output_type": "stream",
     "text": [
      "[CV] END max_depth=40, max_features=log2, min_samples_leaf=4, min_samples_split=10, n_estimators=100; total time=  36.7s\n",
      "[CV] END max_depth=40, max_features=log2, min_samples_leaf=4, min_samples_split=10, n_estimators=100; total time=  35.9s\n",
      "[CV] END max_depth=10, max_features=log2, min_samples_leaf=1, min_samples_split=2, n_estimators=300; total time= 1.1min\n",
      "[CV] END max_depth=30, max_features=log2, min_samples_leaf=4, min_samples_split=10, n_estimators=400; total time= 2.4min\n",
      "[CV] END max_depth=10, max_features=log2, min_samples_leaf=2, min_samples_split=5, n_estimators=300; total time= 1.0min\n",
      "[CV] END max_depth=40, max_features=log2, min_samples_leaf=4, min_samples_split=10, n_estimators=100; total time=  35.5s\n",
      "[CV] END max_depth=20, max_features=auto, min_samples_leaf=2, min_samples_split=5, n_estimators=100; total time= 1.5min\n",
      "[CV] END max_depth=30, max_features=log2, min_samples_leaf=4, min_samples_split=10, n_estimators=400; total time= 2.4min\n",
      "[CV] END max_depth=10, max_features=log2, min_samples_leaf=2, min_samples_split=5, n_estimators=300; total time= 1.1min\n",
      "[CV] END max_depth=10, max_features=log2, min_samples_leaf=1, min_samples_split=2, n_estimators=300; total time= 1.0min\n",
      "[CV] END max_depth=20, max_features=auto, min_samples_leaf=2, min_samples_split=5, n_estimators=100; total time= 1.5min\n",
      "[CV] END max_depth=50, max_features=log2, min_samples_leaf=4, min_samples_split=2, n_estimators=200; total time= 1.3min\n",
      "[CV] END max_depth=50, max_features=log2, min_samples_leaf=4, min_samples_split=2, n_estimators=200; total time= 1.2min\n"
     ]
    },
    {
     "name": "stderr",
     "output_type": "stream",
     "text": [
      "/usr/local/lib/python3.11/dist-packages/sklearn/ensemble/_forest.py:413: FutureWarning: `max_features='auto'` has been deprecated in 1.1 and will be removed in 1.3. To keep the past behaviour, explicitly set `max_features=1.0` or remove this parameter as it is also the default value for RandomForestRegressors and ExtraTreesRegressors.\n",
      "  warn(\n"
     ]
    },
    {
     "name": "stdout",
     "output_type": "stream",
     "text": [
      "[CV] END max_depth=40, max_features=sqrt, min_samples_leaf=1, min_samples_split=10, n_estimators=200; total time= 1.3min\n",
      "[CV] END max_depth=20, max_features=sqrt, min_samples_leaf=1, min_samples_split=2, n_estimators=500; total time= 3.2min\n"
     ]
    },
    {
     "name": "stderr",
     "output_type": "stream",
     "text": [
      "/usr/local/lib/python3.11/dist-packages/sklearn/ensemble/_forest.py:413: FutureWarning: `max_features='auto'` has been deprecated in 1.1 and will be removed in 1.3. To keep the past behaviour, explicitly set `max_features=1.0` or remove this parameter as it is also the default value for RandomForestRegressors and ExtraTreesRegressors.\n",
      "  warn(\n"
     ]
    },
    {
     "name": "stdout",
     "output_type": "stream",
     "text": [
      "[CV] END max_depth=50, max_features=log2, min_samples_leaf=4, min_samples_split=2, n_estimators=200; total time= 1.2min\n",
      "[CV] END max_depth=10, max_features=sqrt, min_samples_leaf=2, min_samples_split=2, n_estimators=400; total time= 1.4min\n",
      "[CV] END max_depth=20, max_features=sqrt, min_samples_leaf=1, min_samples_split=2, n_estimators=500; total time= 3.2min\n"
     ]
    },
    {
     "name": "stderr",
     "output_type": "stream",
     "text": [
      "/usr/local/lib/python3.11/dist-packages/sklearn/ensemble/_forest.py:413: FutureWarning: `max_features='auto'` has been deprecated in 1.1 and will be removed in 1.3. To keep the past behaviour, explicitly set `max_features=1.0` or remove this parameter as it is also the default value for RandomForestRegressors and ExtraTreesRegressors.\n",
      "  warn(\n"
     ]
    },
    {
     "name": "stdout",
     "output_type": "stream",
     "text": [
      "[CV] END max_depth=10, max_features=sqrt, min_samples_leaf=2, min_samples_split=2, n_estimators=400; total time= 1.4min\n",
      "[CV] END max_depth=40, max_features=sqrt, min_samples_leaf=1, min_samples_split=10, n_estimators=200; total time= 1.3min\n",
      "[CV] END max_depth=20, max_features=sqrt, min_samples_leaf=1, min_samples_split=2, n_estimators=500; total time= 3.2min\n"
     ]
    },
    {
     "name": "stderr",
     "output_type": "stream",
     "text": [
      "/usr/local/lib/python3.11/dist-packages/sklearn/ensemble/_forest.py:413: FutureWarning: `max_features='auto'` has been deprecated in 1.1 and will be removed in 1.3. To keep the past behaviour, explicitly set `max_features=1.0` or remove this parameter as it is also the default value for RandomForestRegressors and ExtraTreesRegressors.\n",
      "  warn(\n",
      "/usr/local/lib/python3.11/dist-packages/sklearn/ensemble/_forest.py:413: FutureWarning: `max_features='auto'` has been deprecated in 1.1 and will be removed in 1.3. To keep the past behaviour, explicitly set `max_features=1.0` or remove this parameter as it is also the default value for RandomForestRegressors and ExtraTreesRegressors.\n",
      "  warn(\n",
      "/usr/local/lib/python3.11/dist-packages/sklearn/ensemble/_forest.py:413: FutureWarning: `max_features='auto'` has been deprecated in 1.1 and will be removed in 1.3. To keep the past behaviour, explicitly set `max_features=1.0` or remove this parameter as it is also the default value for RandomForestRegressors and ExtraTreesRegressors.\n",
      "  warn(\n",
      "/usr/local/lib/python3.11/dist-packages/sklearn/ensemble/_forest.py:413: FutureWarning: `max_features='auto'` has been deprecated in 1.1 and will be removed in 1.3. To keep the past behaviour, explicitly set `max_features=1.0` or remove this parameter as it is also the default value for RandomForestRegressors and ExtraTreesRegressors.\n",
      "  warn(\n",
      "/usr/local/lib/python3.11/dist-packages/sklearn/ensemble/_forest.py:413: FutureWarning: `max_features='auto'` has been deprecated in 1.1 and will be removed in 1.3. To keep the past behaviour, explicitly set `max_features=1.0` or remove this parameter as it is also the default value for RandomForestRegressors and ExtraTreesRegressors.\n",
      "  warn(\n",
      "/usr/local/lib/python3.11/dist-packages/sklearn/ensemble/_forest.py:413: FutureWarning: `max_features='auto'` has been deprecated in 1.1 and will be removed in 1.3. To keep the past behaviour, explicitly set `max_features=1.0` or remove this parameter as it is also the default value for RandomForestRegressors and ExtraTreesRegressors.\n",
      "  warn(\n",
      "/usr/local/lib/python3.11/dist-packages/sklearn/ensemble/_forest.py:413: FutureWarning: `max_features='auto'` has been deprecated in 1.1 and will be removed in 1.3. To keep the past behaviour, explicitly set `max_features=1.0` or remove this parameter as it is also the default value for RandomForestRegressors and ExtraTreesRegressors.\n",
      "  warn(\n",
      "/usr/local/lib/python3.11/dist-packages/sklearn/ensemble/_forest.py:413: FutureWarning: `max_features='auto'` has been deprecated in 1.1 and will be removed in 1.3. To keep the past behaviour, explicitly set `max_features=1.0` or remove this parameter as it is also the default value for RandomForestRegressors and ExtraTreesRegressors.\n",
      "  warn(\n",
      "/usr/local/lib/python3.11/dist-packages/sklearn/ensemble/_forest.py:413: FutureWarning: `max_features='auto'` has been deprecated in 1.1 and will be removed in 1.3. To keep the past behaviour, explicitly set `max_features=1.0` or remove this parameter as it is also the default value for RandomForestRegressors and ExtraTreesRegressors.\n",
      "  warn(\n"
     ]
    },
    {
     "name": "stdout",
     "output_type": "stream",
     "text": [
      "[CV] END max_depth=40, max_features=auto, min_samples_leaf=2, min_samples_split=10, n_estimators=500; total time= 7.7min\n",
      "[CV] END max_depth=50, max_features=log2, min_samples_leaf=4, min_samples_split=10, n_estimators=200; total time= 1.2min\n",
      "[CV] END max_depth=10, max_features=log2, min_samples_leaf=4, min_samples_split=2, n_estimators=500; total time= 1.8min\n",
      "[CV] END max_depth=30, max_features=auto, min_samples_leaf=2, min_samples_split=5, n_estimators=200; total time= 3.1min\n",
      "[CV] END max_depth=None, max_features=log2, min_samples_leaf=2, min_samples_split=2, n_estimators=500; total time= 3.5min\n",
      "[CV] END max_depth=10, max_features=log2, min_samples_leaf=2, min_samples_split=5, n_estimators=300; total time= 1.1min\n",
      "[CV] END max_depth=10, max_features=log2, min_samples_leaf=1, min_samples_split=2, n_estimators=300; total time= 1.0min\n",
      "[CV] END max_depth=20, max_features=auto, min_samples_leaf=2, min_samples_split=5, n_estimators=100; total time= 1.4min\n",
      "[CV] END max_depth=30, max_features=log2, min_samples_leaf=4, min_samples_split=10, n_estimators=400; total time= 2.4min\n",
      "[CV] END max_depth=10, max_features=sqrt, min_samples_leaf=2, min_samples_split=2, n_estimators=400; total time= 1.4min\n",
      "[CV] END max_depth=40, max_features=sqrt, min_samples_leaf=1, min_samples_split=10, n_estimators=200; total time= 1.2min\n",
      "[CV] END max_depth=40, max_features=auto, min_samples_leaf=2, min_samples_split=10, n_estimators=500; total time= 7.5min\n",
      "[CV] END max_depth=10, max_features=log2, min_samples_leaf=1, min_samples_split=5, n_estimators=200; total time=  40.9s\n",
      "[CV] END max_depth=30, max_features=auto, min_samples_leaf=4, min_samples_split=5, n_estimators=100; total time= 1.5min\n",
      "[CV] END max_depth=50, max_features=log2, min_samples_leaf=4, min_samples_split=10, n_estimators=200; total time= 1.2min\n",
      "[CV] END max_depth=10, max_features=log2, min_samples_leaf=4, min_samples_split=2, n_estimators=500; total time= 1.7min\n",
      "[CV] END max_depth=30, max_features=auto, min_samples_leaf=2, min_samples_split=5, n_estimators=200; total time= 3.2min\n",
      "[CV] END max_depth=20, max_features=auto, min_samples_leaf=4, min_samples_split=10, n_estimators=500; total time= 7.0min\n",
      "[CV] END max_depth=None, max_features=sqrt, min_samples_leaf=2, min_samples_split=5, n_estimators=200; total time= 1.3min\n",
      "[CV] END max_depth=None, max_features=sqrt, min_samples_leaf=2, min_samples_split=5, n_estimators=200; total time= 1.3min\n",
      "[CV] END max_depth=None, max_features=sqrt, min_samples_leaf=2, min_samples_split=5, n_estimators=200; total time= 1.3min\n",
      "[CV] END max_depth=10, max_features=log2, min_samples_leaf=1, min_samples_split=5, n_estimators=200; total time=  40.7s\n",
      "[CV] END max_depth=10, max_features=log2, min_samples_leaf=1, min_samples_split=5, n_estimators=200; total time=  41.3s\n",
      "[CV] END max_depth=30, max_features=auto, min_samples_leaf=4, min_samples_split=5, n_estimators=100; total time= 1.5min\n",
      "[CV] END max_depth=50, max_features=log2, min_samples_leaf=4, min_samples_split=10, n_estimators=200; total time= 1.2min\n",
      "[CV] END max_depth=10, max_features=log2, min_samples_leaf=4, min_samples_split=2, n_estimators=500; total time= 1.8min\n",
      "[CV] END max_depth=20, max_features=auto, min_samples_leaf=4, min_samples_split=10, n_estimators=500; total time= 7.1min\n",
      "[CV] END max_depth=None, max_features=log2, min_samples_leaf=2, min_samples_split=2, n_estimators=500; total time= 3.5min\n",
      "[CV] END max_depth=40, max_features=auto, min_samples_leaf=2, min_samples_split=10, n_estimators=500; total time= 7.5min\n",
      "[CV] END max_depth=30, max_features=auto, min_samples_leaf=4, min_samples_split=5, n_estimators=100; total time= 1.5min\n",
      "[CV] END max_depth=30, max_features=auto, min_samples_leaf=2, min_samples_split=5, n_estimators=200; total time= 3.3min\n",
      "[CV] END max_depth=20, max_features=auto, min_samples_leaf=4, min_samples_split=10, n_estimators=500; total time= 7.0min\n",
      "[CV] END max_depth=20, max_features=log2, min_samples_leaf=2, min_samples_split=5, n_estimators=400; total time= 2.4min\n",
      "[CV] END max_depth=30, max_features=log2, min_samples_leaf=4, min_samples_split=5, n_estimators=200; total time= 1.2min\n",
      "[CV] END max_depth=20, max_features=log2, min_samples_leaf=2, min_samples_split=5, n_estimators=400; total time= 2.4min\n",
      "[CV] END max_depth=None, max_features=log2, min_samples_leaf=2, min_samples_split=2, n_estimators=500; total time= 3.6min\n",
      "[CV] END max_depth=20, max_features=log2, min_samples_leaf=2, min_samples_split=5, n_estimators=400; total time= 2.3min\n",
      "[CV] END max_depth=30, max_features=log2, min_samples_leaf=4, min_samples_split=5, n_estimators=200; total time= 1.2min\n",
      "[CV] END max_depth=30, max_features=log2, min_samples_leaf=4, min_samples_split=5, n_estimators=200; total time=  56.3s\n",
      "Best parameters: {'n_estimators': 500, 'min_samples_split': 10, 'min_samples_leaf': 2, 'max_features': 'auto', 'max_depth': 40}\n",
      "Optimized Random Forest MAE: 1.4331933148016625\n",
      "Optimized Random Forest RMSE: 12.441271037348677\n"
     ]
    }
   ],
   "source": [
    "from sklearn.model_selection import RandomizedSearchCV\n",
    "from sklearn.ensemble import RandomForestRegressor\n",
    "from sklearn.metrics import mean_absolute_error, mean_squared_error\n",
    "import numpy as np\n",
    "\n",
    "# Random Forest modelini oluştur (rastgelelik sabit)\n",
    "rf = RandomForestRegressor(random_state=42)\n",
    "\n",
    "# Modelde denenmek istenen parametrelerin aralıkları/dizileri\n",
    "param_dist = {\n",
    "    'n_estimators': [100, 200, 300, 400, 500],      # Ağaç sayısı\n",
    "    'max_depth': [None, 10, 20, 30, 40, 50],       # Maksimum derinlik\n",
    "    'min_samples_split': [2, 5, 10],                # İç düğüm bölünmesi için minimum örnek sayısı\n",
    "    'min_samples_leaf': [1, 2, 4],                  # Yaprak düğümde minimum örnek sayısı\n",
    "    'max_features': ['auto', 'sqrt', 'log2']        # Özellik seçimi yöntemi\n",
    "}\n",
    "\n",
    "# RandomizedSearchCV ile 20 farklı parametre kombinasyonunu 3 katlı çapraz doğrulama ile dene\n",
    "random_search = RandomizedSearchCV(\n",
    "    estimator=rf,                     # Model\n",
    "    param_distributions=param_dist,  # Parametre aralıkları\n",
    "    n_iter=20,                       # Kaç farklı parametre kombinasyonu denenecek\n",
    "    cv=3,                            # 3 katlı çapraz doğrulama\n",
    "    verbose=2,                      # Çalışma sırasında çıktı detay seviyesi\n",
    "    random_state=42,                 # Rastgelelik sabit\n",
    "    n_jobs=-1,                      # Tüm işlemciler kullanılacak\n",
    "    scoring='neg_mean_absolute_error'  # Optimize edilecek metrik (negatif MAE)\n",
    ")\n",
    "\n",
    "# Parametre araması ile modeli eğit\n",
    "random_search.fit(train_X, train_y)\n",
    "\n",
    "# En iyi bulunan parametreleri yazdır\n",
    "print(\"Best parameters:\", random_search.best_params_)\n",
    "\n",
    "# En iyi modeli al\n",
    "best_rf = random_search.best_estimator_\n",
    "\n",
    "# Test verisi üzerinde tahmin yap\n",
    "rf_pred = best_rf.predict(test_X)\n",
    "\n",
    "# Test seti için Ortalama Mutlak Hata hesapla\n",
    "mae = mean_absolute_error(test_df['dep_delay'], rf_pred)\n",
    "\n",
    "# Test seti için Karekök Ortalama Kare Hata hesapla\n",
    "rmse = np.sqrt(mean_squared_error(test_df['dep_delay'], rf_pred))\n",
    "\n",
    "# Performans sonuçlarını yazdır\n",
    "print(f\"Optimized Random Forest MAE: {mae}\")\n",
    "print(f\"Optimized Random Forest RMSE: {rmse}\")\n",
    "\n"
   ]
  },
  {
   "cell_type": "code",
   "execution_count": 33,
   "id": "d138fe4a",
   "metadata": {
    "execution": {
     "iopub.execute_input": "2025-05-24T23:15:31.224488Z",
     "iopub.status.busy": "2025-05-24T23:15:31.223995Z",
     "iopub.status.idle": "2025-05-24T23:15:31.369082Z",
     "shell.execute_reply": "2025-05-24T23:15:31.367782Z"
    },
    "papermill": {
     "duration": 0.304065,
     "end_time": "2025-05-24T23:15:31.371107",
     "exception": false,
     "start_time": "2025-05-24T23:15:31.067042",
     "status": "completed"
    },
    "tags": []
   },
   "outputs": [
    {
     "name": "stdout",
     "output_type": "stream",
     "text": [
      "            date  dep_delay  predicted_dep_delay\n",
      "27004 2013-10-01      -13.0            -4.307213\n",
      "27005 2013-10-01        5.0            -3.909964\n",
      "27006 2013-10-01       -9.0            -3.813045\n",
      "27007 2013-10-01       -6.0            -3.813045\n",
      "27008 2013-10-01       -6.0            -3.813045\n",
      "27009 2013-10-01       -6.0            -2.455087\n",
      "27010 2013-10-01      -11.0            -5.719448\n",
      "27011 2013-10-01      -10.0            -5.719448\n",
      "27012 2013-10-01      -10.0            -5.719448\n",
      "27013 2013-10-01       -9.0            -5.719448\n",
      "27014 2013-10-01       -9.0            -5.719448\n",
      "27015 2013-10-01       -9.0            -5.719448\n",
      "27016 2013-10-01       -8.0            -5.719448\n",
      "27017 2013-10-01       -7.0            -5.719448\n",
      "27018 2013-10-01       -7.0            -5.719448\n",
      "27019 2013-10-01       -6.0            -5.719448\n",
      "27020 2013-10-01       -6.0            -5.719448\n",
      "27021 2013-10-01       -5.0            -5.719448\n",
      "27022 2013-10-01       -4.0            -3.848770\n",
      "27023 2013-10-01       -4.0            -3.848770\n"
     ]
    }
   ],
   "source": [
    "# Sadece 1 Ekim - 31 Aralık arası filtreleme\n",
    "tahminler = test_df[(test_df['date'] >= '2013-10-01') & (test_df['date'] <= '2013-12-31')]\n",
    "\n",
    "# Gerekli sütunları göster (gözlem + tahmin)\n",
    "print(tahminler[['date', 'dep_delay', 'predicted_dep_delay']].head(20))  # ilk 20 satır\n"
   ]
  }
 ],
 "metadata": {
  "kaggle": {
   "accelerator": "none",
   "dataSources": [
    {
     "datasetId": 7505232,
     "sourceId": 11937702,
     "sourceType": "datasetVersion"
    }
   ],
   "dockerImageVersionId": 31040,
   "isGpuEnabled": false,
   "isInternetEnabled": true,
   "language": "python",
   "sourceType": "notebook"
  },
  "kernelspec": {
   "display_name": "Python 3",
   "language": "python",
   "name": "python3"
  },
  "language_info": {
   "codemirror_mode": {
    "name": "ipython",
    "version": 3
   },
   "file_extension": ".py",
   "mimetype": "text/x-python",
   "name": "python",
   "nbconvert_exporter": "python",
   "pygments_lexer": "ipython3",
   "version": "3.11.11"
  },
  "papermill": {
   "default_parameters": {},
   "duration": 2861.361556,
   "end_time": "2025-05-24T23:15:34.360232",
   "environment_variables": {},
   "exception": null,
   "input_path": "__notebook__.ipynb",
   "output_path": "__notebook__.ipynb",
   "parameters": {},
   "start_time": "2025-05-24T22:27:52.998676",
   "version": "2.6.0"
  }
 },
 "nbformat": 4,
 "nbformat_minor": 5
}
